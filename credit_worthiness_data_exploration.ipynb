{
 "cells": [
  {
   "cell_type": "markdown",
   "metadata": {},
   "source": [
    "## Analyzing borrowers’ risk of defaulting\n",
    "\n",
    "Your project is to prepare a report for a bank’s loan division. You’ll need to find out if a customer’s marital status and number of children has an impact on whether they will default on a loan. The bank already has some data on customers’ credit worthiness.\n",
    "\n",
    "Your report will be considered when building a **credit scoring** of a potential customer. A **credit scoring** is used to evaluate the ability of a potential borrower to repay their loan."
   ]
  },
  {
   "cell_type": "code",
   "execution_count": 1,
   "metadata": {},
   "outputs": [],
   "source": [
    "#imports\n",
    "import numpy as np\n",
    "import pandas as pd\n",
    "import matplotlib.pyplot as plt\n",
    "import seaborn as sns\n",
    "%matplotlib inline"
   ]
  },
  {
   "cell_type": "markdown",
   "metadata": {},
   "source": [
    "### Step 1. Open the data file and have a look at the general information. "
   ]
  },
  {
   "cell_type": "code",
   "execution_count": 2,
   "metadata": {},
   "outputs": [
    {
     "data": {
      "text/html": [
       "<div>\n",
       "<style scoped>\n",
       "    .dataframe tbody tr th:only-of-type {\n",
       "        vertical-align: middle;\n",
       "    }\n",
       "\n",
       "    .dataframe tbody tr th {\n",
       "        vertical-align: top;\n",
       "    }\n",
       "\n",
       "    .dataframe thead th {\n",
       "        text-align: right;\n",
       "    }\n",
       "</style>\n",
       "<table border=\"1\" class=\"dataframe\">\n",
       "  <thead>\n",
       "    <tr style=\"text-align: right;\">\n",
       "      <th></th>\n",
       "      <th>children</th>\n",
       "      <th>days_employed</th>\n",
       "      <th>dob_years</th>\n",
       "      <th>education</th>\n",
       "      <th>education_id</th>\n",
       "      <th>family_status</th>\n",
       "      <th>family_status_id</th>\n",
       "      <th>gender</th>\n",
       "      <th>income_type</th>\n",
       "      <th>debt</th>\n",
       "      <th>total_income</th>\n",
       "      <th>purpose</th>\n",
       "    </tr>\n",
       "  </thead>\n",
       "  <tbody>\n",
       "    <tr>\n",
       "      <td>0</td>\n",
       "      <td>1</td>\n",
       "      <td>-8437.673028</td>\n",
       "      <td>42</td>\n",
       "      <td>bachelor's degree</td>\n",
       "      <td>0</td>\n",
       "      <td>married</td>\n",
       "      <td>0</td>\n",
       "      <td>F</td>\n",
       "      <td>employee</td>\n",
       "      <td>0</td>\n",
       "      <td>40620.102</td>\n",
       "      <td>purchase of the house</td>\n",
       "    </tr>\n",
       "    <tr>\n",
       "      <td>1</td>\n",
       "      <td>1</td>\n",
       "      <td>-4024.803754</td>\n",
       "      <td>36</td>\n",
       "      <td>secondary education</td>\n",
       "      <td>1</td>\n",
       "      <td>married</td>\n",
       "      <td>0</td>\n",
       "      <td>F</td>\n",
       "      <td>employee</td>\n",
       "      <td>0</td>\n",
       "      <td>17932.802</td>\n",
       "      <td>car purchase</td>\n",
       "    </tr>\n",
       "    <tr>\n",
       "      <td>2</td>\n",
       "      <td>0</td>\n",
       "      <td>-5623.422610</td>\n",
       "      <td>33</td>\n",
       "      <td>Secondary Education</td>\n",
       "      <td>1</td>\n",
       "      <td>married</td>\n",
       "      <td>0</td>\n",
       "      <td>M</td>\n",
       "      <td>employee</td>\n",
       "      <td>0</td>\n",
       "      <td>23341.752</td>\n",
       "      <td>purchase of the house</td>\n",
       "    </tr>\n",
       "    <tr>\n",
       "      <td>3</td>\n",
       "      <td>3</td>\n",
       "      <td>-4124.747207</td>\n",
       "      <td>32</td>\n",
       "      <td>secondary education</td>\n",
       "      <td>1</td>\n",
       "      <td>married</td>\n",
       "      <td>0</td>\n",
       "      <td>M</td>\n",
       "      <td>employee</td>\n",
       "      <td>0</td>\n",
       "      <td>42820.568</td>\n",
       "      <td>supplementary education</td>\n",
       "    </tr>\n",
       "    <tr>\n",
       "      <td>4</td>\n",
       "      <td>0</td>\n",
       "      <td>340266.072047</td>\n",
       "      <td>53</td>\n",
       "      <td>secondary education</td>\n",
       "      <td>1</td>\n",
       "      <td>civil partnership</td>\n",
       "      <td>1</td>\n",
       "      <td>F</td>\n",
       "      <td>retiree</td>\n",
       "      <td>0</td>\n",
       "      <td>25378.572</td>\n",
       "      <td>to have a wedding</td>\n",
       "    </tr>\n",
       "    <tr>\n",
       "      <td>5</td>\n",
       "      <td>0</td>\n",
       "      <td>-926.185831</td>\n",
       "      <td>27</td>\n",
       "      <td>bachelor's degree</td>\n",
       "      <td>0</td>\n",
       "      <td>civil partnership</td>\n",
       "      <td>1</td>\n",
       "      <td>M</td>\n",
       "      <td>business</td>\n",
       "      <td>0</td>\n",
       "      <td>40922.170</td>\n",
       "      <td>purchase of the house</td>\n",
       "    </tr>\n",
       "    <tr>\n",
       "      <td>6</td>\n",
       "      <td>0</td>\n",
       "      <td>-2879.202052</td>\n",
       "      <td>43</td>\n",
       "      <td>bachelor's degree</td>\n",
       "      <td>0</td>\n",
       "      <td>married</td>\n",
       "      <td>0</td>\n",
       "      <td>F</td>\n",
       "      <td>business</td>\n",
       "      <td>0</td>\n",
       "      <td>38484.156</td>\n",
       "      <td>housing transactions</td>\n",
       "    </tr>\n",
       "    <tr>\n",
       "      <td>7</td>\n",
       "      <td>0</td>\n",
       "      <td>-152.779569</td>\n",
       "      <td>50</td>\n",
       "      <td>SECONDARY EDUCATION</td>\n",
       "      <td>1</td>\n",
       "      <td>married</td>\n",
       "      <td>0</td>\n",
       "      <td>M</td>\n",
       "      <td>employee</td>\n",
       "      <td>0</td>\n",
       "      <td>21731.829</td>\n",
       "      <td>education</td>\n",
       "    </tr>\n",
       "    <tr>\n",
       "      <td>8</td>\n",
       "      <td>2</td>\n",
       "      <td>-6929.865299</td>\n",
       "      <td>35</td>\n",
       "      <td>BACHELOR'S DEGREE</td>\n",
       "      <td>0</td>\n",
       "      <td>civil partnership</td>\n",
       "      <td>1</td>\n",
       "      <td>F</td>\n",
       "      <td>employee</td>\n",
       "      <td>0</td>\n",
       "      <td>15337.093</td>\n",
       "      <td>having a wedding</td>\n",
       "    </tr>\n",
       "    <tr>\n",
       "      <td>9</td>\n",
       "      <td>0</td>\n",
       "      <td>-2188.756445</td>\n",
       "      <td>41</td>\n",
       "      <td>secondary education</td>\n",
       "      <td>1</td>\n",
       "      <td>married</td>\n",
       "      <td>0</td>\n",
       "      <td>M</td>\n",
       "      <td>employee</td>\n",
       "      <td>0</td>\n",
       "      <td>23108.150</td>\n",
       "      <td>purchase of the house for my family</td>\n",
       "    </tr>\n",
       "  </tbody>\n",
       "</table>\n",
       "</div>"
      ],
      "text/plain": [
       "   children  days_employed  dob_years            education  education_id  \\\n",
       "0         1   -8437.673028         42    bachelor's degree             0   \n",
       "1         1   -4024.803754         36  secondary education             1   \n",
       "2         0   -5623.422610         33  Secondary Education             1   \n",
       "3         3   -4124.747207         32  secondary education             1   \n",
       "4         0  340266.072047         53  secondary education             1   \n",
       "5         0    -926.185831         27    bachelor's degree             0   \n",
       "6         0   -2879.202052         43    bachelor's degree             0   \n",
       "7         0    -152.779569         50  SECONDARY EDUCATION             1   \n",
       "8         2   -6929.865299         35    BACHELOR'S DEGREE             0   \n",
       "9         0   -2188.756445         41  secondary education             1   \n",
       "\n",
       "       family_status  family_status_id gender income_type  debt  total_income  \\\n",
       "0            married                 0      F    employee     0     40620.102   \n",
       "1            married                 0      F    employee     0     17932.802   \n",
       "2            married                 0      M    employee     0     23341.752   \n",
       "3            married                 0      M    employee     0     42820.568   \n",
       "4  civil partnership                 1      F     retiree     0     25378.572   \n",
       "5  civil partnership                 1      M    business     0     40922.170   \n",
       "6            married                 0      F    business     0     38484.156   \n",
       "7            married                 0      M    employee     0     21731.829   \n",
       "8  civil partnership                 1      F    employee     0     15337.093   \n",
       "9            married                 0      M    employee     0     23108.150   \n",
       "\n",
       "                               purpose  \n",
       "0                purchase of the house  \n",
       "1                         car purchase  \n",
       "2                purchase of the house  \n",
       "3              supplementary education  \n",
       "4                    to have a wedding  \n",
       "5                purchase of the house  \n",
       "6                 housing transactions  \n",
       "7                            education  \n",
       "8                     having a wedding  \n",
       "9  purchase of the house for my family  "
      ]
     },
     "execution_count": 2,
     "metadata": {},
     "output_type": "execute_result"
    }
   ],
   "source": [
    "data = pd.read_csv('credit_scoring_eng.csv')\n",
    "data.head(10)"
   ]
  },
  {
   "cell_type": "code",
   "execution_count": 3,
   "metadata": {},
   "outputs": [
    {
     "name": "stdout",
     "output_type": "stream",
     "text": [
      "<class 'pandas.core.frame.DataFrame'>\n",
      "RangeIndex: 21525 entries, 0 to 21524\n",
      "Data columns (total 12 columns):\n",
      "children            21525 non-null int64\n",
      "days_employed       19351 non-null float64\n",
      "dob_years           21525 non-null int64\n",
      "education           21525 non-null object\n",
      "education_id        21525 non-null int64\n",
      "family_status       21525 non-null object\n",
      "family_status_id    21525 non-null int64\n",
      "gender              21525 non-null object\n",
      "income_type         21525 non-null object\n",
      "debt                21525 non-null int64\n",
      "total_income        19351 non-null float64\n",
      "purpose             21525 non-null object\n",
      "dtypes: float64(2), int64(5), object(5)\n",
      "memory usage: 2.0+ MB\n"
     ]
    }
   ],
   "source": [
    "data.info()"
   ]
  },
  {
   "cell_type": "markdown",
   "metadata": {},
   "source": [
    "### Step 2: Preprocess the data."
   ]
  },
  {
   "cell_type": "markdown",
   "metadata": {},
   "source": [
    "We don't need the floating point level of precision for total income and days employed, so we'll convert those to integers."
   ]
  },
  {
   "cell_type": "code",
   "execution_count": 4,
   "metadata": {},
   "outputs": [
    {
     "name": "stdout",
     "output_type": "stream",
     "text": [
      "Check these columns for null values.\n",
      "Number of null values for days_employed: 2174\n",
      "Number of null values for total_income: 2174\n"
     ]
    }
   ],
   "source": [
    "try:\n",
    "    data['days_employed'] = data['days_employed'].astype('int')\n",
    "    data['total_income'] = data['total_income'].astype('int')\n",
    "except:\n",
    "    print(\"Check these columns for null values.\")\n",
    "    print(\"Number of null values for days_employed:\", len(data[data['days_employed'].isnull()]))\n",
    "    print(\"Number of null values for total_income:\", len(data[data['total_income'].isnull()]))"
   ]
  },
  {
   "cell_type": "markdown",
   "metadata": {},
   "source": [
    "**The days_employed and total_income currently contain null values, which prevent us from converting the non-null values from floating points to integers. We'll come back to this after filling in or removing the null values.**"
   ]
  },
  {
   "cell_type": "markdown",
   "metadata": {},
   "source": [
    "On first glance, the education column contains multiple values, but these values vary in letter capitalization. Before using it for comparison, I will give the column uniform casing."
   ]
  },
  {
   "cell_type": "code",
   "execution_count": 5,
   "metadata": {},
   "outputs": [
    {
     "data": {
      "text/plain": [
       "SECONDARY EDUCATION    15233\n",
       "BACHELOR'S DEGREE       5260\n",
       "SOME COLLEGE             744\n",
       "PRIMARY EDUCATION        282\n",
       "GRADUATE DEGREE            6\n",
       "Name: education, dtype: int64"
      ]
     },
     "execution_count": 5,
     "metadata": {},
     "output_type": "execute_result"
    }
   ],
   "source": [
    "data['education'] = data['education'].str.upper()\n",
    "data['education'].value_counts()"
   ]
  },
  {
   "cell_type": "markdown",
   "metadata": {},
   "source": [
    "In the dataframe info output, we see that days_employed and total_income have the same number of null values. Let's check to see if there is some kind of pattern with these rows."
   ]
  },
  {
   "cell_type": "code",
   "execution_count": 6,
   "metadata": {},
   "outputs": [
    {
     "data": {
      "text/plain": [
       "Series([], Name: total_income, dtype: int64)"
      ]
     },
     "execution_count": 6,
     "metadata": {},
     "output_type": "execute_result"
    }
   ],
   "source": [
    "# Should return an empty series object\n",
    "data[data['days_employed'].isnull()]['total_income'].value_counts()"
   ]
  },
  {
   "cell_type": "markdown",
   "metadata": {},
   "source": [
    "The above code block shows that days_employed and total_income **are always missing together.**"
   ]
  },
  {
   "cell_type": "code",
   "execution_count": 7,
   "metadata": {},
   "outputs": [
    {
     "data": {
      "text/plain": [
       "employee         1105\n",
       "business          508\n",
       "retiree           413\n",
       "civil servant     147\n",
       "entrepreneur        1\n",
       "Name: income_type, dtype: int64"
      ]
     },
     "execution_count": 7,
     "metadata": {},
     "output_type": "execute_result"
    }
   ],
   "source": [
    "data[data['days_employed'].isnull()]['income_type'].value_counts()"
   ]
  },
  {
   "cell_type": "code",
   "execution_count": 8,
   "metadata": {},
   "outputs": [
    {
     "data": {
      "text/plain": [
       "SECONDARY EDUCATION    0.708372\n",
       "BACHELOR'S DEGREE      0.250230\n",
       "SOME COLLEGE           0.031739\n",
       "PRIMARY EDUCATION      0.009660\n",
       "Name: education, dtype: float64"
      ]
     },
     "execution_count": 8,
     "metadata": {},
     "output_type": "execute_result"
    }
   ],
   "source": [
    "data[data['days_employed'].isnull()]['education'].value_counts(normalize = True)"
   ]
  },
  {
   "cell_type": "code",
   "execution_count": 9,
   "metadata": {},
   "outputs": [
    {
     "data": {
      "text/plain": [
       "SECONDARY EDUCATION    0.707612\n",
       "BACHELOR'S DEGREE      0.243708\n",
       "SOME COLLEGE           0.034882\n",
       "PRIMARY EDUCATION      0.013488\n",
       "GRADUATE DEGREE        0.000310\n",
       "Name: education, dtype: float64"
      ]
     },
     "execution_count": 9,
     "metadata": {},
     "output_type": "execute_result"
    }
   ],
   "source": [
    "data[data['days_employed'].notnull()]['education'].value_counts(normalize = True)"
   ]
  },
  {
   "cell_type": "markdown",
   "metadata": {},
   "source": [
    "**Based on the fact that there is no clear distinction between the non-null data points and the null data points, we can safely assume that the days_employed and total_income null values are distributed randomly across the dataset. For this reason, we can fill in null values using mean or median.**\n",
    "\n",
    "One possible method to fill in these missing values is to replace the total income values with **the mean value for total income for the corresponding income type**, i.e. replace total income missing values for retirees with the mean value of income for all retirees in the dataset. "
   ]
  },
  {
   "cell_type": "code",
   "execution_count": 10,
   "metadata": {},
   "outputs": [],
   "source": [
    "def fill_missing_values(data, income_type_list):\n",
    "    \n",
    "    for income_type in income_type_list:\n",
    "        data.loc[(data['income_type'] == income_type) & (data['total_income'].isnull()), 'total_income'] = (\n",
    "            data.loc[(data['income_type'] == income_type) & (data['total_income'].notnull()), 'total_income'].mean())\n",
    "\n",
    "        data.loc[(data['income_type'] == income_type) & (data['days_employed'].isnull()), 'days_employed'] = (\n",
    "            data.loc[(data['income_type'] == income_type) & (data['days_employed'].notnull()), 'days_employed'].mean())\n",
    "    return data"
   ]
  },
  {
   "cell_type": "code",
   "execution_count": 11,
   "metadata": {},
   "outputs": [
    {
     "name": "stdout",
     "output_type": "stream",
     "text": [
      "Income types of null values: ['retiree', 'civil servant', 'business', 'employee', 'entrepreneur']\n"
     ]
    }
   ],
   "source": [
    "income_type_list = data[data['days_employed'].isnull()]['income_type'].unique().tolist()\n",
    "print(\"Income types of null values:\", income_type_list)"
   ]
  },
  {
   "cell_type": "code",
   "execution_count": 12,
   "metadata": {},
   "outputs": [
    {
     "name": "stdout",
     "output_type": "stream",
     "text": [
      "Information for updated dataframe:\n",
      "\n",
      "<class 'pandas.core.frame.DataFrame'>\n",
      "RangeIndex: 21525 entries, 0 to 21524\n",
      "Data columns (total 12 columns):\n",
      "children            21525 non-null int64\n",
      "days_employed       21525 non-null float64\n",
      "dob_years           21525 non-null int64\n",
      "education           21525 non-null object\n",
      "education_id        21525 non-null int64\n",
      "family_status       21525 non-null object\n",
      "family_status_id    21525 non-null int64\n",
      "gender              21525 non-null object\n",
      "income_type         21525 non-null object\n",
      "debt                21525 non-null int64\n",
      "total_income        21525 non-null float64\n",
      "purpose             21525 non-null object\n",
      "dtypes: float64(2), int64(5), object(5)\n",
      "memory usage: 2.0+ MB\n",
      "None\n"
     ]
    }
   ],
   "source": [
    "data = fill_missing_values(data, income_type_list)\n",
    "print(\"Information for updated dataframe:\\n\")\n",
    "print(data.info())"
   ]
  },
  {
   "cell_type": "markdown",
   "metadata": {},
   "source": [
    "Now that we have filled in our null values, we can now convert the total_income and days_employed columns to integer values."
   ]
  },
  {
   "cell_type": "code",
   "execution_count": 13,
   "metadata": {},
   "outputs": [
    {
     "name": "stdout",
     "output_type": "stream",
     "text": [
      "<class 'pandas.core.frame.DataFrame'>\n",
      "RangeIndex: 21525 entries, 0 to 21524\n",
      "Data columns (total 12 columns):\n",
      "children            21525 non-null int64\n",
      "days_employed       21525 non-null int64\n",
      "dob_years           21525 non-null int64\n",
      "education           21525 non-null object\n",
      "education_id        21525 non-null int64\n",
      "family_status       21525 non-null object\n",
      "family_status_id    21525 non-null int64\n",
      "gender              21525 non-null object\n",
      "income_type         21525 non-null object\n",
      "debt                21525 non-null int64\n",
      "total_income        21525 non-null int64\n",
      "purpose             21525 non-null object\n",
      "dtypes: int64(7), object(5)\n",
      "memory usage: 2.0+ MB\n"
     ]
    }
   ],
   "source": [
    "data['days_employed'] = data['days_employed'].astype('int')\n",
    "data['total_income'] = data['total_income'].astype('int')\n",
    "data.info()"
   ]
  },
  {
   "cell_type": "markdown",
   "metadata": {},
   "source": [
    "### Takeaway #1: Why were these missing values present?\n",
    "\n",
    "Due to the randomness of the data points with missing values for days_employed and total_income, I believe that some individuals simply forgot to input this data when filling out their loan application. Since the two fields were always missing together, they were likely part of the same questions/grouping of questions that some individuals didn't fill out. "
   ]
  },
  {
   "cell_type": "markdown",
   "metadata": {},
   "source": [
    "#### Step 2.1: Deal with negative days_employed values."
   ]
  },
  {
   "cell_type": "code",
   "execution_count": 14,
   "metadata": {},
   "outputs": [],
   "source": [
    "# Function to make viewing basic statistical measures for a given feature easier\n",
    "def statistical_summary(column):\n",
    "    print(\"Min {}: {:.2f}\".format(column, min(data[column])))\n",
    "    print(\"Max {}: {:.2f}\".format(column, max(data[column])))\n",
    "    print(\"Median {}: {:.2f}\".format(column, data[column].median()))\n",
    "    print(\"Average {}: {:.2f}\".format(column, data[column].mean()))\n",
    "    print(\"Standard deviation of {}: {:.2f}\".format(column, data[column].std()))"
   ]
  },
  {
   "cell_type": "code",
   "execution_count": 15,
   "metadata": {},
   "outputs": [
    {
     "name": "stdout",
     "output_type": "stream",
     "text": [
      "Min days_employed: -18388.00\n",
      "Max days_employed: 401755.00\n",
      "Median days_employed: -1355.00\n",
      "Average days_employed: 63490.01\n",
      "Standard deviation of days_employed: 141167.80\n"
     ]
    }
   ],
   "source": [
    "statistical_summary('days_employed')"
   ]
  },
  {
   "cell_type": "code",
   "execution_count": 16,
   "metadata": {},
   "outputs": [
    {
     "name": "stdout",
     "output_type": "stream",
     "text": [
      "Number of data points with negative days employed: 17667\n",
      "% of data points with negative days employed: 82.08%\n"
     ]
    }
   ],
   "source": [
    "print(\"Number of data points with negative days employed:\", len(data[data['days_employed'] < 0]))\n",
    "print(\"% of data points with negative days employed: {:.2%}\".format(len(data[data['days_employed'] < 0])/len(data)))"
   ]
  },
  {
   "cell_type": "markdown",
   "metadata": {},
   "source": [
    "So **over 82%** of our data points contain negative values for days employed. This leads me to believe that some sort of technical error led to the negative values we're seeing. "
   ]
  },
  {
   "cell_type": "code",
   "execution_count": 17,
   "metadata": {},
   "outputs": [
    {
     "data": {
      "text/html": [
       "<div>\n",
       "<style scoped>\n",
       "    .dataframe tbody tr th:only-of-type {\n",
       "        vertical-align: middle;\n",
       "    }\n",
       "\n",
       "    .dataframe tbody tr th {\n",
       "        vertical-align: top;\n",
       "    }\n",
       "\n",
       "    .dataframe thead th {\n",
       "        text-align: right;\n",
       "    }\n",
       "</style>\n",
       "<table border=\"1\" class=\"dataframe\">\n",
       "  <thead>\n",
       "    <tr style=\"text-align: right;\">\n",
       "      <th></th>\n",
       "      <th>children</th>\n",
       "      <th>days_employed</th>\n",
       "      <th>dob_years</th>\n",
       "      <th>education</th>\n",
       "      <th>education_id</th>\n",
       "      <th>family_status</th>\n",
       "      <th>family_status_id</th>\n",
       "      <th>gender</th>\n",
       "      <th>income_type</th>\n",
       "      <th>debt</th>\n",
       "      <th>total_income</th>\n",
       "      <th>purpose</th>\n",
       "    </tr>\n",
       "  </thead>\n",
       "  <tbody>\n",
       "    <tr>\n",
       "      <td>0</td>\n",
       "      <td>1</td>\n",
       "      <td>-8437</td>\n",
       "      <td>42</td>\n",
       "      <td>BACHELOR'S DEGREE</td>\n",
       "      <td>0</td>\n",
       "      <td>married</td>\n",
       "      <td>0</td>\n",
       "      <td>F</td>\n",
       "      <td>employee</td>\n",
       "      <td>0</td>\n",
       "      <td>40620</td>\n",
       "      <td>purchase of the house</td>\n",
       "    </tr>\n",
       "    <tr>\n",
       "      <td>1</td>\n",
       "      <td>1</td>\n",
       "      <td>-4024</td>\n",
       "      <td>36</td>\n",
       "      <td>SECONDARY EDUCATION</td>\n",
       "      <td>1</td>\n",
       "      <td>married</td>\n",
       "      <td>0</td>\n",
       "      <td>F</td>\n",
       "      <td>employee</td>\n",
       "      <td>0</td>\n",
       "      <td>17932</td>\n",
       "      <td>car purchase</td>\n",
       "    </tr>\n",
       "    <tr>\n",
       "      <td>2</td>\n",
       "      <td>0</td>\n",
       "      <td>-5623</td>\n",
       "      <td>33</td>\n",
       "      <td>SECONDARY EDUCATION</td>\n",
       "      <td>1</td>\n",
       "      <td>married</td>\n",
       "      <td>0</td>\n",
       "      <td>M</td>\n",
       "      <td>employee</td>\n",
       "      <td>0</td>\n",
       "      <td>23341</td>\n",
       "      <td>purchase of the house</td>\n",
       "    </tr>\n",
       "    <tr>\n",
       "      <td>3</td>\n",
       "      <td>3</td>\n",
       "      <td>-4124</td>\n",
       "      <td>32</td>\n",
       "      <td>SECONDARY EDUCATION</td>\n",
       "      <td>1</td>\n",
       "      <td>married</td>\n",
       "      <td>0</td>\n",
       "      <td>M</td>\n",
       "      <td>employee</td>\n",
       "      <td>0</td>\n",
       "      <td>42820</td>\n",
       "      <td>supplementary education</td>\n",
       "    </tr>\n",
       "    <tr>\n",
       "      <td>5</td>\n",
       "      <td>0</td>\n",
       "      <td>-926</td>\n",
       "      <td>27</td>\n",
       "      <td>BACHELOR'S DEGREE</td>\n",
       "      <td>0</td>\n",
       "      <td>civil partnership</td>\n",
       "      <td>1</td>\n",
       "      <td>M</td>\n",
       "      <td>business</td>\n",
       "      <td>0</td>\n",
       "      <td>40922</td>\n",
       "      <td>purchase of the house</td>\n",
       "    </tr>\n",
       "  </tbody>\n",
       "</table>\n",
       "</div>"
      ],
      "text/plain": [
       "   children  days_employed  dob_years            education  education_id  \\\n",
       "0         1          -8437         42    BACHELOR'S DEGREE             0   \n",
       "1         1          -4024         36  SECONDARY EDUCATION             1   \n",
       "2         0          -5623         33  SECONDARY EDUCATION             1   \n",
       "3         3          -4124         32  SECONDARY EDUCATION             1   \n",
       "5         0           -926         27    BACHELOR'S DEGREE             0   \n",
       "\n",
       "       family_status  family_status_id gender income_type  debt  total_income  \\\n",
       "0            married                 0      F    employee     0         40620   \n",
       "1            married                 0      F    employee     0         17932   \n",
       "2            married                 0      M    employee     0         23341   \n",
       "3            married                 0      M    employee     0         42820   \n",
       "5  civil partnership                 1      M    business     0         40922   \n",
       "\n",
       "                   purpose  \n",
       "0    purchase of the house  \n",
       "1             car purchase  \n",
       "2    purchase of the house  \n",
       "3  supplementary education  \n",
       "5    purchase of the house  "
      ]
     },
     "execution_count": 17,
     "metadata": {},
     "output_type": "execute_result"
    }
   ],
   "source": [
    "negative_points = data[data['days_employed'] < 0]\n",
    "negative_points.head()"
   ]
  },
  {
   "cell_type": "code",
   "execution_count": 18,
   "metadata": {},
   "outputs": [
    {
     "name": "stderr",
     "output_type": "stream",
     "text": [
      "/Users/nyleashraf/opt/anaconda3/lib/python3.7/site-packages/ipykernel_launcher.py:1: SettingWithCopyWarning: \n",
      "A value is trying to be set on a copy of a slice from a DataFrame.\n",
      "Try using .loc[row_indexer,col_indexer] = value instead\n",
      "\n",
      "See the caveats in the documentation: http://pandas.pydata.org/pandas-docs/stable/user_guide/indexing.html#returning-a-view-versus-a-copy\n",
      "  \"\"\"Entry point for launching an IPython kernel.\n"
     ]
    },
    {
     "data": {
      "text/html": [
       "<div>\n",
       "<style scoped>\n",
       "    .dataframe tbody tr th:only-of-type {\n",
       "        vertical-align: middle;\n",
       "    }\n",
       "\n",
       "    .dataframe tbody tr th {\n",
       "        vertical-align: top;\n",
       "    }\n",
       "\n",
       "    .dataframe thead th {\n",
       "        text-align: right;\n",
       "    }\n",
       "</style>\n",
       "<table border=\"1\" class=\"dataframe\">\n",
       "  <thead>\n",
       "    <tr style=\"text-align: right;\">\n",
       "      <th></th>\n",
       "      <th>children</th>\n",
       "      <th>days_employed</th>\n",
       "      <th>dob_years</th>\n",
       "      <th>education</th>\n",
       "      <th>education_id</th>\n",
       "      <th>family_status</th>\n",
       "      <th>family_status_id</th>\n",
       "      <th>gender</th>\n",
       "      <th>income_type</th>\n",
       "      <th>debt</th>\n",
       "      <th>total_income</th>\n",
       "      <th>purpose</th>\n",
       "      <th>years_employed</th>\n",
       "    </tr>\n",
       "  </thead>\n",
       "  <tbody>\n",
       "    <tr>\n",
       "      <td>0</td>\n",
       "      <td>1</td>\n",
       "      <td>-8437</td>\n",
       "      <td>42</td>\n",
       "      <td>BACHELOR'S DEGREE</td>\n",
       "      <td>0</td>\n",
       "      <td>married</td>\n",
       "      <td>0</td>\n",
       "      <td>F</td>\n",
       "      <td>employee</td>\n",
       "      <td>0</td>\n",
       "      <td>40620</td>\n",
       "      <td>purchase of the house</td>\n",
       "      <td>23.099247</td>\n",
       "    </tr>\n",
       "    <tr>\n",
       "      <td>1</td>\n",
       "      <td>1</td>\n",
       "      <td>-4024</td>\n",
       "      <td>36</td>\n",
       "      <td>SECONDARY EDUCATION</td>\n",
       "      <td>1</td>\n",
       "      <td>married</td>\n",
       "      <td>0</td>\n",
       "      <td>F</td>\n",
       "      <td>employee</td>\n",
       "      <td>0</td>\n",
       "      <td>17932</td>\n",
       "      <td>car purchase</td>\n",
       "      <td>11.017112</td>\n",
       "    </tr>\n",
       "    <tr>\n",
       "      <td>2</td>\n",
       "      <td>0</td>\n",
       "      <td>-5623</td>\n",
       "      <td>33</td>\n",
       "      <td>SECONDARY EDUCATION</td>\n",
       "      <td>1</td>\n",
       "      <td>married</td>\n",
       "      <td>0</td>\n",
       "      <td>M</td>\n",
       "      <td>employee</td>\n",
       "      <td>0</td>\n",
       "      <td>23341</td>\n",
       "      <td>purchase of the house</td>\n",
       "      <td>15.394935</td>\n",
       "    </tr>\n",
       "    <tr>\n",
       "      <td>3</td>\n",
       "      <td>3</td>\n",
       "      <td>-4124</td>\n",
       "      <td>32</td>\n",
       "      <td>SECONDARY EDUCATION</td>\n",
       "      <td>1</td>\n",
       "      <td>married</td>\n",
       "      <td>0</td>\n",
       "      <td>M</td>\n",
       "      <td>employee</td>\n",
       "      <td>0</td>\n",
       "      <td>42820</td>\n",
       "      <td>supplementary education</td>\n",
       "      <td>11.290897</td>\n",
       "    </tr>\n",
       "    <tr>\n",
       "      <td>5</td>\n",
       "      <td>0</td>\n",
       "      <td>-926</td>\n",
       "      <td>27</td>\n",
       "      <td>BACHELOR'S DEGREE</td>\n",
       "      <td>0</td>\n",
       "      <td>civil partnership</td>\n",
       "      <td>1</td>\n",
       "      <td>M</td>\n",
       "      <td>business</td>\n",
       "      <td>0</td>\n",
       "      <td>40922</td>\n",
       "      <td>purchase of the house</td>\n",
       "      <td>2.535250</td>\n",
       "    </tr>\n",
       "  </tbody>\n",
       "</table>\n",
       "</div>"
      ],
      "text/plain": [
       "   children  days_employed  dob_years            education  education_id  \\\n",
       "0         1          -8437         42    BACHELOR'S DEGREE             0   \n",
       "1         1          -4024         36  SECONDARY EDUCATION             1   \n",
       "2         0          -5623         33  SECONDARY EDUCATION             1   \n",
       "3         3          -4124         32  SECONDARY EDUCATION             1   \n",
       "5         0           -926         27    BACHELOR'S DEGREE             0   \n",
       "\n",
       "       family_status  family_status_id gender income_type  debt  total_income  \\\n",
       "0            married                 0      F    employee     0         40620   \n",
       "1            married                 0      F    employee     0         17932   \n",
       "2            married                 0      M    employee     0         23341   \n",
       "3            married                 0      M    employee     0         42820   \n",
       "5  civil partnership                 1      M    business     0         40922   \n",
       "\n",
       "                   purpose  years_employed  \n",
       "0    purchase of the house       23.099247  \n",
       "1             car purchase       11.017112  \n",
       "2    purchase of the house       15.394935  \n",
       "3  supplementary education       11.290897  \n",
       "5    purchase of the house        2.535250  "
      ]
     },
     "execution_count": 18,
     "metadata": {},
     "output_type": "execute_result"
    }
   ],
   "source": [
    "negative_points['years_employed'] = -1 * negative_points['days_employed'] / 365.25\n",
    "negative_points.head()"
   ]
  },
  {
   "cell_type": "code",
   "execution_count": 19,
   "metadata": {},
   "outputs": [
    {
     "data": {
      "text/plain": [
       "<matplotlib.axes._subplots.AxesSubplot at 0x7fe50aa7b350>"
      ]
     },
     "execution_count": 19,
     "metadata": {},
     "output_type": "execute_result"
    },
    {
     "data": {
      "image/png": "[encoded data removed]",
      "text/plain": [
       "<Figure size 1080x576 with 1 Axes>"
      ]
     },
     "metadata": {
      "needs_background": "light"
     },
     "output_type": "display_data"
    }
   ],
   "source": [
    "plt.figure(figsize=(15,8))\n",
    "sns.scatterplot(x='dob_years', y='years_employed', data=negative_points)"
   ]
  },
  {
   "cell_type": "markdown",
   "metadata": {},
   "source": [
    "While the pattern isn't as apparent as I had hypothesized, there is a positive linear correlation between age and years employed. This could mean that the negative values were simply errors and that taking the absolute value of those numbers will fix our problems. However, we do have some clear outliers -- people that have an age of 0. We'll need to remove those from our dataset."
   ]
  },
  {
   "cell_type": "code",
   "execution_count": 20,
   "metadata": {},
   "outputs": [
    {
     "name": "stdout",
     "output_type": "stream",
     "text": [
      "Number of data points with age = 0: 101\n",
      "% of data points with age = 0: 0.47%\n"
     ]
    }
   ],
   "source": [
    "print(\"Number of data points with age = 0:\", len(data[data['dob_years'] == 0]))\n",
    "print(\"% of data points with age = 0: {:.2%}\".format(len(data[data['dob_years'] == 0]) / len(data)))"
   ]
  },
  {
   "cell_type": "markdown",
   "metadata": {},
   "source": [
    "Since these data points are such a small percentage of the overall dataset, we can remove these points, rather than approximating in missing values.\n",
    "\n",
    "*However, if we did want to fill in the missing values, we could take the mean difference between dob_years and years_employed and add that number to the years_employed for each individual with a missing age to approximate.*"
   ]
  },
  {
   "cell_type": "code",
   "execution_count": 21,
   "metadata": {},
   "outputs": [
    {
     "name": "stdout",
     "output_type": "stream",
     "text": [
      "<class 'pandas.core.frame.DataFrame'>\n",
      "Int64Index: 21424 entries, 0 to 21524\n",
      "Data columns (total 12 columns):\n",
      "children            21424 non-null int64\n",
      "days_employed       21424 non-null int64\n",
      "dob_years           21424 non-null int64\n",
      "education           21424 non-null object\n",
      "education_id        21424 non-null int64\n",
      "family_status       21424 non-null object\n",
      "family_status_id    21424 non-null int64\n",
      "gender              21424 non-null object\n",
      "income_type         21424 non-null object\n",
      "debt                21424 non-null int64\n",
      "total_income        21424 non-null int64\n",
      "purpose             21424 non-null object\n",
      "dtypes: int64(7), object(5)\n",
      "memory usage: 2.1+ MB\n"
     ]
    }
   ],
   "source": [
    "data = data[data['dob_years'] > 0]\n",
    "data.info()"
   ]
  },
  {
   "cell_type": "markdown",
   "metadata": {},
   "source": [
    "Going back to our other insight from the scatterplot, let's replace all negative values in the years_employed column with its absolute value."
   ]
  },
  {
   "cell_type": "code",
   "execution_count": 22,
   "metadata": {},
   "outputs": [],
   "source": [
    "data['days_employed'] = data['days_employed'].abs()"
   ]
  },
  {
   "cell_type": "markdown",
   "metadata": {},
   "source": [
    "#### Step 2.2: Deal with outlier days_employed values"
   ]
  },
  {
   "cell_type": "code",
   "execution_count": 23,
   "metadata": {},
   "outputs": [
    {
     "name": "stdout",
     "output_type": "stream",
     "text": [
      "Min days_employed: 24.00\n",
      "Max days_employed: 401755.00\n",
      "Median days_employed: 2326.00\n",
      "Average days_employed: 67322.14\n",
      "Standard deviation of days_employed: 139343.31\n"
     ]
    }
   ],
   "source": [
    "statistical_summary('days_employed')"
   ]
  },
  {
   "cell_type": "markdown",
   "metadata": {},
   "source": [
    "So it looks like we have some outliers in our days_employed column -- 400,000 days employed equates to over 1,000 years! Let's visualize our days_employed data to determine our outlier cut-off point."
   ]
  },
  {
   "cell_type": "code",
   "execution_count": 24,
   "metadata": {},
   "outputs": [
    {
     "data": {
      "image/png": "[encoded data removed]",
      "text/plain": [
       "<Figure size 1080x576 with 1 Axes>"
      ]
     },
     "metadata": {
      "needs_background": "light"
     },
     "output_type": "display_data"
    }
   ],
   "source": [
    "# Histogram of days employed frequency across dataset\n",
    "days_employed = data['days_employed'].to_numpy()\n",
    "hist_kws={'histtype': 'bar', 'edgecolor':'black', 'alpha': 0.2}\n",
    "fig, ax = plt.subplots(figsize=(15, 8))\n",
    "sns.distplot(days_employed, bins=50, kde=False, ax=ax, hist_kws=hist_kws)\n",
    "ax.set_title('Histogram of Total Days Employed', fontsize=16)\n",
    "ax.set_xlabel('Days Employed', fontsize=12)\n",
    "ax.set_ylabel('Frequency', fontsize=12)\n",
    "plt.show()"
   ]
  },
  {
   "cell_type": "markdown",
   "metadata": {},
   "source": [
    "All of our outliers are grouped together with 300,000+ days employed. Let's see if we can find some similarities between them."
   ]
  },
  {
   "cell_type": "code",
   "execution_count": 25,
   "metadata": {},
   "outputs": [
    {
     "name": "stdout",
     "output_type": "stream",
     "text": [
      "Number of outliers: 3838\n",
      "% of outliers: 17.91%\n"
     ]
    },
    {
     "data": {
      "text/html": [
       "<div>\n",
       "<style scoped>\n",
       "    .dataframe tbody tr th:only-of-type {\n",
       "        vertical-align: middle;\n",
       "    }\n",
       "\n",
       "    .dataframe tbody tr th {\n",
       "        vertical-align: top;\n",
       "    }\n",
       "\n",
       "    .dataframe thead th {\n",
       "        text-align: right;\n",
       "    }\n",
       "</style>\n",
       "<table border=\"1\" class=\"dataframe\">\n",
       "  <thead>\n",
       "    <tr style=\"text-align: right;\">\n",
       "      <th></th>\n",
       "      <th>children</th>\n",
       "      <th>days_employed</th>\n",
       "      <th>dob_years</th>\n",
       "      <th>education</th>\n",
       "      <th>education_id</th>\n",
       "      <th>family_status</th>\n",
       "      <th>family_status_id</th>\n",
       "      <th>gender</th>\n",
       "      <th>income_type</th>\n",
       "      <th>debt</th>\n",
       "      <th>total_income</th>\n",
       "      <th>purpose</th>\n",
       "    </tr>\n",
       "  </thead>\n",
       "  <tbody>\n",
       "    <tr>\n",
       "      <td>4</td>\n",
       "      <td>0</td>\n",
       "      <td>340266</td>\n",
       "      <td>53</td>\n",
       "      <td>SECONDARY EDUCATION</td>\n",
       "      <td>1</td>\n",
       "      <td>civil partnership</td>\n",
       "      <td>1</td>\n",
       "      <td>F</td>\n",
       "      <td>retiree</td>\n",
       "      <td>0</td>\n",
       "      <td>25378</td>\n",
       "      <td>to have a wedding</td>\n",
       "    </tr>\n",
       "    <tr>\n",
       "      <td>12</td>\n",
       "      <td>0</td>\n",
       "      <td>365003</td>\n",
       "      <td>65</td>\n",
       "      <td>SECONDARY EDUCATION</td>\n",
       "      <td>1</td>\n",
       "      <td>civil partnership</td>\n",
       "      <td>1</td>\n",
       "      <td>M</td>\n",
       "      <td>retiree</td>\n",
       "      <td>0</td>\n",
       "      <td>21940</td>\n",
       "      <td>to have a wedding</td>\n",
       "    </tr>\n",
       "    <tr>\n",
       "      <td>18</td>\n",
       "      <td>0</td>\n",
       "      <td>400281</td>\n",
       "      <td>53</td>\n",
       "      <td>SECONDARY EDUCATION</td>\n",
       "      <td>1</td>\n",
       "      <td>widow / widower</td>\n",
       "      <td>2</td>\n",
       "      <td>F</td>\n",
       "      <td>retiree</td>\n",
       "      <td>0</td>\n",
       "      <td>9091</td>\n",
       "      <td>buying a second-hand car</td>\n",
       "    </tr>\n",
       "    <tr>\n",
       "      <td>24</td>\n",
       "      <td>1</td>\n",
       "      <td>338551</td>\n",
       "      <td>57</td>\n",
       "      <td>SECONDARY EDUCATION</td>\n",
       "      <td>1</td>\n",
       "      <td>unmarried</td>\n",
       "      <td>4</td>\n",
       "      <td>F</td>\n",
       "      <td>retiree</td>\n",
       "      <td>0</td>\n",
       "      <td>46487</td>\n",
       "      <td>transactions with commercial real estate</td>\n",
       "    </tr>\n",
       "    <tr>\n",
       "      <td>25</td>\n",
       "      <td>0</td>\n",
       "      <td>363548</td>\n",
       "      <td>67</td>\n",
       "      <td>SECONDARY EDUCATION</td>\n",
       "      <td>1</td>\n",
       "      <td>married</td>\n",
       "      <td>0</td>\n",
       "      <td>M</td>\n",
       "      <td>retiree</td>\n",
       "      <td>0</td>\n",
       "      <td>8818</td>\n",
       "      <td>buy real estate</td>\n",
       "    </tr>\n",
       "  </tbody>\n",
       "</table>\n",
       "</div>"
      ],
      "text/plain": [
       "    children  days_employed  dob_years            education  education_id  \\\n",
       "4          0         340266         53  SECONDARY EDUCATION             1   \n",
       "12         0         365003         65  SECONDARY EDUCATION             1   \n",
       "18         0         400281         53  SECONDARY EDUCATION             1   \n",
       "24         1         338551         57  SECONDARY EDUCATION             1   \n",
       "25         0         363548         67  SECONDARY EDUCATION             1   \n",
       "\n",
       "        family_status  family_status_id gender income_type  debt  \\\n",
       "4   civil partnership                 1      F     retiree     0   \n",
       "12  civil partnership                 1      M     retiree     0   \n",
       "18    widow / widower                 2      F     retiree     0   \n",
       "24          unmarried                 4      F     retiree     0   \n",
       "25            married                 0      M     retiree     0   \n",
       "\n",
       "    total_income                                   purpose  \n",
       "4          25378                         to have a wedding  \n",
       "12         21940                         to have a wedding  \n",
       "18          9091                  buying a second-hand car  \n",
       "24         46487  transactions with commercial real estate  \n",
       "25          8818                           buy real estate  "
      ]
     },
     "execution_count": 25,
     "metadata": {},
     "output_type": "execute_result"
    }
   ],
   "source": [
    "outliers = data[data['days_employed'] > 300000]\n",
    "print(\"Number of outliers:\", len(outliers))\n",
    "print(\"% of outliers: {:.2%}\".format(len(outliers) / len(data)))\n",
    "outliers.head()"
   ]
  },
  {
   "cell_type": "code",
   "execution_count": 26,
   "metadata": {},
   "outputs": [
    {
     "data": {
      "text/plain": [
       "SECONDARY EDUCATION    3124\n",
       "BACHELOR'S DEGREE       572\n",
       "PRIMARY EDUCATION        99\n",
       "SOME COLLEGE             41\n",
       "GRADUATE DEGREE           2\n",
       "Name: education, dtype: int64"
      ]
     },
     "execution_count": 26,
     "metadata": {},
     "output_type": "execute_result"
    }
   ],
   "source": [
    "outliers['education'].value_counts()"
   ]
  },
  {
   "cell_type": "code",
   "execution_count": 27,
   "metadata": {},
   "outputs": [
    {
     "data": {
      "text/plain": [
       "retiree       3836\n",
       "unemployed       2\n",
       "Name: income_type, dtype: int64"
      ]
     },
     "execution_count": 27,
     "metadata": {},
     "output_type": "execute_result"
    }
   ],
   "source": [
    "outliers['income_type'].value_counts()"
   ]
  },
  {
   "cell_type": "code",
   "execution_count": 28,
   "metadata": {},
   "outputs": [
    {
     "data": {
      "text/plain": [
       "employee                       11064\n",
       "business                        5065\n",
       "retiree                         3836\n",
       "civil servant                   1453\n",
       "unemployed                         2\n",
       "entrepreneur                       2\n",
       "paternity / maternity leave        1\n",
       "student                            1\n",
       "Name: income_type, dtype: int64"
      ]
     },
     "execution_count": 28,
     "metadata": {},
     "output_type": "execute_result"
    }
   ],
   "source": [
    "data['income_type'].value_counts()"
   ]
  },
  {
   "cell_type": "markdown",
   "metadata": {},
   "source": [
    "All of our retirees and unemployed individuals have incorrect values for days_employed. We don't want to throw out an entire subgroup from our dataset, so we'll need to fill in these values. \n",
    "\n",
    "We'll take the average difference between *dob_years* (converted to days) and *days_employed* for our non-outlier data points, which will give us the average age an individual enters the workforce. We'll subtract this number from *dob_years* for our retirees to give us their *days_employed*. We'll then look at the two unemployed individuals to determine how we'll deal with those values."
   ]
  },
  {
   "cell_type": "code",
   "execution_count": 29,
   "metadata": {},
   "outputs": [
    {
     "name": "stdout",
     "output_type": "stream",
     "text": [
      "Mean starting age: 12269.83 (in days) | 33.59 (in years)\n"
     ]
    }
   ],
   "source": [
    "mean_start_age = data[data['days_employed'] < 300000]['dob_years'].mean() * 365.25 - \\\n",
    "data[data['days_employed'] < 300000]['days_employed'].mean()\n",
    "print(\"Mean starting age: {:.2f} (in days) | {:.2f} (in years)\".format(mean_start_age, mean_start_age / 365.25))"
   ]
  },
  {
   "cell_type": "code",
   "execution_count": 30,
   "metadata": {},
   "outputs": [
    {
     "data": {
      "text/html": [
       "<div>\n",
       "<style scoped>\n",
       "    .dataframe tbody tr th:only-of-type {\n",
       "        vertical-align: middle;\n",
       "    }\n",
       "\n",
       "    .dataframe tbody tr th {\n",
       "        vertical-align: top;\n",
       "    }\n",
       "\n",
       "    .dataframe thead th {\n",
       "        text-align: right;\n",
       "    }\n",
       "</style>\n",
       "<table border=\"1\" class=\"dataframe\">\n",
       "  <thead>\n",
       "    <tr style=\"text-align: right;\">\n",
       "      <th></th>\n",
       "      <th>children</th>\n",
       "      <th>days_employed</th>\n",
       "      <th>dob_years</th>\n",
       "      <th>education</th>\n",
       "      <th>education_id</th>\n",
       "      <th>family_status</th>\n",
       "      <th>family_status_id</th>\n",
       "      <th>gender</th>\n",
       "      <th>income_type</th>\n",
       "      <th>debt</th>\n",
       "      <th>total_income</th>\n",
       "      <th>purpose</th>\n",
       "    </tr>\n",
       "  </thead>\n",
       "  <tbody>\n",
       "    <tr>\n",
       "      <td>3133</td>\n",
       "      <td>1</td>\n",
       "      <td>337524</td>\n",
       "      <td>31</td>\n",
       "      <td>SECONDARY EDUCATION</td>\n",
       "      <td>1</td>\n",
       "      <td>married</td>\n",
       "      <td>0</td>\n",
       "      <td>M</td>\n",
       "      <td>unemployed</td>\n",
       "      <td>1</td>\n",
       "      <td>9593</td>\n",
       "      <td>buying property for renting out</td>\n",
       "    </tr>\n",
       "    <tr>\n",
       "      <td>14798</td>\n",
       "      <td>0</td>\n",
       "      <td>395302</td>\n",
       "      <td>45</td>\n",
       "      <td>BACHELOR'S DEGREE</td>\n",
       "      <td>0</td>\n",
       "      <td>civil partnership</td>\n",
       "      <td>1</td>\n",
       "      <td>F</td>\n",
       "      <td>unemployed</td>\n",
       "      <td>0</td>\n",
       "      <td>32435</td>\n",
       "      <td>housing renovation</td>\n",
       "    </tr>\n",
       "  </tbody>\n",
       "</table>\n",
       "</div>"
      ],
      "text/plain": [
       "       children  days_employed  dob_years            education  education_id  \\\n",
       "3133          1         337524         31  SECONDARY EDUCATION             1   \n",
       "14798         0         395302         45    BACHELOR'S DEGREE             0   \n",
       "\n",
       "           family_status  family_status_id gender income_type  debt  \\\n",
       "3133             married                 0      M  unemployed     1   \n",
       "14798  civil partnership                 1      F  unemployed     0   \n",
       "\n",
       "       total_income                          purpose  \n",
       "3133           9593  buying property for renting out  \n",
       "14798         32435               housing renovation  "
      ]
     },
     "execution_count": 30,
     "metadata": {},
     "output_type": "execute_result"
    }
   ],
   "source": [
    "data[(data['days_employed'] > 300000) & (data['income_type'] == 'unemployed')]"
   ]
  },
  {
   "cell_type": "markdown",
   "metadata": {},
   "source": [
    "One can reasonably assume that these two individuals have prior work experience and were either laid off, looking for a career change, or just taking some time off from working. For this reason, I will treat the unemployed *days_employed* the same way I treat the retirees' *days_employed*."
   ]
  },
  {
   "cell_type": "code",
   "execution_count": 31,
   "metadata": {},
   "outputs": [
    {
     "data": {
      "text/html": [
       "<div>\n",
       "<style scoped>\n",
       "    .dataframe tbody tr th:only-of-type {\n",
       "        vertical-align: middle;\n",
       "    }\n",
       "\n",
       "    .dataframe tbody tr th {\n",
       "        vertical-align: top;\n",
       "    }\n",
       "\n",
       "    .dataframe thead th {\n",
       "        text-align: right;\n",
       "    }\n",
       "</style>\n",
       "<table border=\"1\" class=\"dataframe\">\n",
       "  <thead>\n",
       "    <tr style=\"text-align: right;\">\n",
       "      <th></th>\n",
       "      <th>children</th>\n",
       "      <th>days_employed</th>\n",
       "      <th>dob_years</th>\n",
       "      <th>education</th>\n",
       "      <th>education_id</th>\n",
       "      <th>family_status</th>\n",
       "      <th>family_status_id</th>\n",
       "      <th>gender</th>\n",
       "      <th>income_type</th>\n",
       "      <th>debt</th>\n",
       "      <th>total_income</th>\n",
       "      <th>purpose</th>\n",
       "    </tr>\n",
       "  </thead>\n",
       "  <tbody>\n",
       "  </tbody>\n",
       "</table>\n",
       "</div>"
      ],
      "text/plain": [
       "Empty DataFrame\n",
       "Columns: [children, days_employed, dob_years, education, education_id, family_status, family_status_id, gender, income_type, debt, total_income, purpose]\n",
       "Index: []"
      ]
     },
     "execution_count": 31,
     "metadata": {},
     "output_type": "execute_result"
    }
   ],
   "source": [
    "def fill_outlier_days_employed(row, mean_start_age):\n",
    "    dob_years = row['dob_years']\n",
    "    days_employed = row['days_employed']\n",
    "    if days_employed > 300000:\n",
    "        return dob_years * 365.25 - mean_start_age\n",
    "    return days_employed\n",
    "\n",
    "data['days_employed'] = data.apply(fill_outlier_days_employed, mean_start_age = mean_start_age, axis = 1)\n",
    "data[data['days_employed'] > 300000]"
   ]
  },
  {
   "cell_type": "markdown",
   "metadata": {},
   "source": [
    "Now we have no outlier data points in the *days_employed* column. There are many potential reasons why the *days_employed* data for retirees and unemployed individuals were incorrect, but we'd need more information on the data collection process to know for sure. **If different forms were utilized for different income types, there may have been something wrong with the forms for unemployed individuals and retirees, which led to all of their *days_employed* data being incorrect.**"
   ]
  },
  {
   "cell_type": "markdown",
   "metadata": {},
   "source": [
    "### Takeaway #2: Why were the majority of values in the days_employed column negative? \n",
    "\n",
    "I believe that there were technical errors in the process of data input that led to the negative values. When we looked at the scatterplot of years_employed vs. dob_years, there was a clear positive correlation between the two variables, which is expected -- the older an individual is, the longer she has likely worked. Since the years_employed data was created with the absolute value of the days_employed column, we can assume that the negative value was simply an error in data input and the absolute value of those data points is correct."
   ]
  },
  {
   "cell_type": "markdown",
   "metadata": {},
   "source": [
    "#### Step 2.3: Deal with negative + outlier children values."
   ]
  },
  {
   "cell_type": "code",
   "execution_count": 32,
   "metadata": {},
   "outputs": [
    {
     "name": "stdout",
     "output_type": "stream",
     "text": [
      "Min children: -1.00\n",
      "Max children: 20.00\n",
      "Median children: 0.00\n",
      "Average children: 0.54\n",
      "Standard deviation of children: 1.38\n"
     ]
    }
   ],
   "source": [
    "statistical_summary('children')"
   ]
  },
  {
   "cell_type": "code",
   "execution_count": 33,
   "metadata": {},
   "outputs": [
    {
     "name": "stdout",
     "output_type": "stream",
     "text": [
      "Number of individuals with children = -1: 47\n",
      "% of individuals with children = -1: 0.22%\n",
      "Average age of individuals with childen = -1: 42.57\n",
      "Min age of individuals with childen = -1: 23.00\n",
      "Max age of individuals with childen = -1: 69.00\n"
     ]
    }
   ],
   "source": [
    "print(\"Number of individuals with children = -1:\", len(data[data['children'] < 0]))\n",
    "print(\"% of individuals with children = -1: {:.2%}\".format(len(data[data['children'] < 0]) / len(data)))\n",
    "print(\"Average age of individuals with childen = -1: {:.2f}\".format(data[data['children'] < 0]['dob_years'].mean()))\n",
    "print(\"Min age of individuals with childen = -1: {:.2f}\".format(data[data['children'] < 0]['dob_years'].min()))\n",
    "print(\"Max age of individuals with childen = -1: {:.2f}\".format(data[data['children'] < 0]['dob_years'].max()))"
   ]
  },
  {
   "cell_type": "markdown",
   "metadata": {},
   "source": [
    "Looking at the average age of individuals with number of children as -1, it seems safe to assume that the negative values are due to errors in data entry, and taking the absolute value of these values would give us an accurate number of children for these individuals."
   ]
  },
  {
   "cell_type": "code",
   "execution_count": 34,
   "metadata": {},
   "outputs": [],
   "source": [
    "data['children'] = data['children'].abs()"
   ]
  },
  {
   "cell_type": "code",
   "execution_count": 35,
   "metadata": {},
   "outputs": [
    {
     "name": "stdout",
     "output_type": "stream",
     "text": [
      "Min children: 0.00\n",
      "Max children: 20.00\n",
      "Median children: 0.00\n",
      "Average children: 0.54\n",
      "Standard deviation of children: 1.38\n"
     ]
    }
   ],
   "source": [
    "statistical_summary('children')"
   ]
  },
  {
   "cell_type": "markdown",
   "metadata": {},
   "source": [
    "Looks like we may also have some outliers (e.g. 20 children). "
   ]
  },
  {
   "cell_type": "code",
   "execution_count": 36,
   "metadata": {},
   "outputs": [
    {
     "data": {
      "text/html": [
       "<div>\n",
       "<style scoped>\n",
       "    .dataframe tbody tr th:only-of-type {\n",
       "        vertical-align: middle;\n",
       "    }\n",
       "\n",
       "    .dataframe tbody tr th {\n",
       "        vertical-align: top;\n",
       "    }\n",
       "\n",
       "    .dataframe thead th {\n",
       "        text-align: right;\n",
       "    }\n",
       "</style>\n",
       "<table border=\"1\" class=\"dataframe\">\n",
       "  <thead>\n",
       "    <tr style=\"text-align: right;\">\n",
       "      <th></th>\n",
       "      <th>children</th>\n",
       "      <th>days_employed</th>\n",
       "      <th>dob_years</th>\n",
       "      <th>education</th>\n",
       "      <th>education_id</th>\n",
       "      <th>family_status</th>\n",
       "      <th>family_status_id</th>\n",
       "      <th>gender</th>\n",
       "      <th>income_type</th>\n",
       "      <th>debt</th>\n",
       "      <th>total_income</th>\n",
       "      <th>purpose</th>\n",
       "    </tr>\n",
       "  </thead>\n",
       "  <tbody>\n",
       "    <tr>\n",
       "      <td>606</td>\n",
       "      <td>20</td>\n",
       "      <td>880.0</td>\n",
       "      <td>21</td>\n",
       "      <td>SECONDARY EDUCATION</td>\n",
       "      <td>1</td>\n",
       "      <td>married</td>\n",
       "      <td>0</td>\n",
       "      <td>M</td>\n",
       "      <td>business</td>\n",
       "      <td>0</td>\n",
       "      <td>23253</td>\n",
       "      <td>purchase of the house</td>\n",
       "    </tr>\n",
       "    <tr>\n",
       "      <td>720</td>\n",
       "      <td>20</td>\n",
       "      <td>855.0</td>\n",
       "      <td>44</td>\n",
       "      <td>SECONDARY EDUCATION</td>\n",
       "      <td>1</td>\n",
       "      <td>married</td>\n",
       "      <td>0</td>\n",
       "      <td>F</td>\n",
       "      <td>business</td>\n",
       "      <td>0</td>\n",
       "      <td>18079</td>\n",
       "      <td>buy real estate</td>\n",
       "    </tr>\n",
       "    <tr>\n",
       "      <td>1074</td>\n",
       "      <td>20</td>\n",
       "      <td>3310.0</td>\n",
       "      <td>56</td>\n",
       "      <td>SECONDARY EDUCATION</td>\n",
       "      <td>1</td>\n",
       "      <td>married</td>\n",
       "      <td>0</td>\n",
       "      <td>F</td>\n",
       "      <td>employee</td>\n",
       "      <td>1</td>\n",
       "      <td>36722</td>\n",
       "      <td>getting an education</td>\n",
       "    </tr>\n",
       "    <tr>\n",
       "      <td>2510</td>\n",
       "      <td>20</td>\n",
       "      <td>2714.0</td>\n",
       "      <td>59</td>\n",
       "      <td>BACHELOR'S DEGREE</td>\n",
       "      <td>0</td>\n",
       "      <td>widow / widower</td>\n",
       "      <td>2</td>\n",
       "      <td>F</td>\n",
       "      <td>employee</td>\n",
       "      <td>0</td>\n",
       "      <td>42315</td>\n",
       "      <td>transactions with commercial real estate</td>\n",
       "    </tr>\n",
       "    <tr>\n",
       "      <td>3302</td>\n",
       "      <td>20</td>\n",
       "      <td>3399.0</td>\n",
       "      <td>35</td>\n",
       "      <td>SECONDARY EDUCATION</td>\n",
       "      <td>1</td>\n",
       "      <td>unmarried</td>\n",
       "      <td>4</td>\n",
       "      <td>F</td>\n",
       "      <td>civil servant</td>\n",
       "      <td>0</td>\n",
       "      <td>27343</td>\n",
       "      <td>profile education</td>\n",
       "    </tr>\n",
       "    <tr>\n",
       "      <td>...</td>\n",
       "      <td>...</td>\n",
       "      <td>...</td>\n",
       "      <td>...</td>\n",
       "      <td>...</td>\n",
       "      <td>...</td>\n",
       "      <td>...</td>\n",
       "      <td>...</td>\n",
       "      <td>...</td>\n",
       "      <td>...</td>\n",
       "      <td>...</td>\n",
       "      <td>...</td>\n",
       "      <td>...</td>\n",
       "    </tr>\n",
       "    <tr>\n",
       "      <td>21008</td>\n",
       "      <td>20</td>\n",
       "      <td>1240.0</td>\n",
       "      <td>40</td>\n",
       "      <td>SECONDARY EDUCATION</td>\n",
       "      <td>1</td>\n",
       "      <td>married</td>\n",
       "      <td>0</td>\n",
       "      <td>F</td>\n",
       "      <td>employee</td>\n",
       "      <td>1</td>\n",
       "      <td>21363</td>\n",
       "      <td>to own a car</td>\n",
       "    </tr>\n",
       "    <tr>\n",
       "      <td>21325</td>\n",
       "      <td>20</td>\n",
       "      <td>601.0</td>\n",
       "      <td>37</td>\n",
       "      <td>SECONDARY EDUCATION</td>\n",
       "      <td>1</td>\n",
       "      <td>married</td>\n",
       "      <td>0</td>\n",
       "      <td>F</td>\n",
       "      <td>business</td>\n",
       "      <td>0</td>\n",
       "      <td>16477</td>\n",
       "      <td>profile education</td>\n",
       "    </tr>\n",
       "    <tr>\n",
       "      <td>21390</td>\n",
       "      <td>20</td>\n",
       "      <td>2111.0</td>\n",
       "      <td>53</td>\n",
       "      <td>SECONDARY EDUCATION</td>\n",
       "      <td>1</td>\n",
       "      <td>married</td>\n",
       "      <td>0</td>\n",
       "      <td>M</td>\n",
       "      <td>business</td>\n",
       "      <td>0</td>\n",
       "      <td>32386</td>\n",
       "      <td>buy residential real estate</td>\n",
       "    </tr>\n",
       "    <tr>\n",
       "      <td>21404</td>\n",
       "      <td>20</td>\n",
       "      <td>494.0</td>\n",
       "      <td>52</td>\n",
       "      <td>SECONDARY EDUCATION</td>\n",
       "      <td>1</td>\n",
       "      <td>married</td>\n",
       "      <td>0</td>\n",
       "      <td>M</td>\n",
       "      <td>business</td>\n",
       "      <td>0</td>\n",
       "      <td>25060</td>\n",
       "      <td>transactions with my real estate</td>\n",
       "    </tr>\n",
       "    <tr>\n",
       "      <td>21491</td>\n",
       "      <td>20</td>\n",
       "      <td>173.0</td>\n",
       "      <td>27</td>\n",
       "      <td>SECONDARY EDUCATION</td>\n",
       "      <td>1</td>\n",
       "      <td>married</td>\n",
       "      <td>0</td>\n",
       "      <td>F</td>\n",
       "      <td>employee</td>\n",
       "      <td>0</td>\n",
       "      <td>24883</td>\n",
       "      <td>buying a second-hand car</td>\n",
       "    </tr>\n",
       "  </tbody>\n",
       "</table>\n",
       "<p>75 rows × 12 columns</p>\n",
       "</div>"
      ],
      "text/plain": [
       "       children  days_employed  dob_years            education  education_id  \\\n",
       "606          20          880.0         21  SECONDARY EDUCATION             1   \n",
       "720          20          855.0         44  SECONDARY EDUCATION             1   \n",
       "1074         20         3310.0         56  SECONDARY EDUCATION             1   \n",
       "2510         20         2714.0         59    BACHELOR'S DEGREE             0   \n",
       "3302         20         3399.0         35  SECONDARY EDUCATION             1   \n",
       "...         ...            ...        ...                  ...           ...   \n",
       "21008        20         1240.0         40  SECONDARY EDUCATION             1   \n",
       "21325        20          601.0         37  SECONDARY EDUCATION             1   \n",
       "21390        20         2111.0         53  SECONDARY EDUCATION             1   \n",
       "21404        20          494.0         52  SECONDARY EDUCATION             1   \n",
       "21491        20          173.0         27  SECONDARY EDUCATION             1   \n",
       "\n",
       "         family_status  family_status_id gender    income_type  debt  \\\n",
       "606            married                 0      M       business     0   \n",
       "720            married                 0      F       business     0   \n",
       "1074           married                 0      F       employee     1   \n",
       "2510   widow / widower                 2      F       employee     0   \n",
       "3302         unmarried                 4      F  civil servant     0   \n",
       "...                ...               ...    ...            ...   ...   \n",
       "21008          married                 0      F       employee     1   \n",
       "21325          married                 0      F       business     0   \n",
       "21390          married                 0      M       business     0   \n",
       "21404          married                 0      M       business     0   \n",
       "21491          married                 0      F       employee     0   \n",
       "\n",
       "       total_income                                   purpose  \n",
       "606           23253                     purchase of the house  \n",
       "720           18079                           buy real estate  \n",
       "1074          36722                      getting an education  \n",
       "2510          42315  transactions with commercial real estate  \n",
       "3302          27343                         profile education  \n",
       "...             ...                                       ...  \n",
       "21008         21363                              to own a car  \n",
       "21325         16477                         profile education  \n",
       "21390         32386               buy residential real estate  \n",
       "21404         25060          transactions with my real estate  \n",
       "21491         24883                  buying a second-hand car  \n",
       "\n",
       "[75 rows x 12 columns]"
      ]
     },
     "execution_count": 36,
     "metadata": {},
     "output_type": "execute_result"
    }
   ],
   "source": [
    "data[data['children'] == 20]"
   ]
  },
  {
   "cell_type": "markdown",
   "metadata": {},
   "source": [
    "**So we have 75 individuals with 20 children.** This is clearly due to errors in the data input process -- these individuals likely have 2 children, not 20. Let's go ahead and fix these values."
   ]
  },
  {
   "cell_type": "code",
   "execution_count": 37,
   "metadata": {},
   "outputs": [
    {
     "name": "stdout",
     "output_type": "stream",
     "text": [
      "Min children: 0.00\n",
      "Max children: 5.00\n",
      "Median children: 0.00\n",
      "Average children: 0.48\n",
      "Standard deviation of children: 0.76\n"
     ]
    }
   ],
   "source": [
    "def fill_outlier_children(row):\n",
    "    children = row['children']\n",
    "    if children == 20:\n",
    "        return 2\n",
    "    return children\n",
    "\n",
    "data['children'] = data.apply(fill_outlier_children, axis = 1)\n",
    "statistical_summary('children')"
   ]
  },
  {
   "cell_type": "markdown",
   "metadata": {},
   "source": [
    "#### Step 2.4: Look for duplicates"
   ]
  },
  {
   "cell_type": "code",
   "execution_count": 38,
   "metadata": {},
   "outputs": [
    {
     "data": {
      "text/html": [
       "<div>\n",
       "<style scoped>\n",
       "    .dataframe tbody tr th:only-of-type {\n",
       "        vertical-align: middle;\n",
       "    }\n",
       "\n",
       "    .dataframe tbody tr th {\n",
       "        vertical-align: top;\n",
       "    }\n",
       "\n",
       "    .dataframe thead th {\n",
       "        text-align: right;\n",
       "    }\n",
       "</style>\n",
       "<table border=\"1\" class=\"dataframe\">\n",
       "  <thead>\n",
       "    <tr style=\"text-align: right;\">\n",
       "      <th></th>\n",
       "      <th>children</th>\n",
       "      <th>days_employed</th>\n",
       "      <th>dob_years</th>\n",
       "      <th>education</th>\n",
       "      <th>education_id</th>\n",
       "      <th>family_status</th>\n",
       "      <th>family_status_id</th>\n",
       "      <th>gender</th>\n",
       "      <th>income_type</th>\n",
       "      <th>debt</th>\n",
       "      <th>total_income</th>\n",
       "      <th>purpose</th>\n",
       "    </tr>\n",
       "  </thead>\n",
       "  <tbody>\n",
       "    <tr>\n",
       "      <td>21415</td>\n",
       "      <td>0</td>\n",
       "      <td>7453.672367</td>\n",
       "      <td>54</td>\n",
       "      <td>SECONDARY EDUCATION</td>\n",
       "      <td>1</td>\n",
       "      <td>married</td>\n",
       "      <td>0</td>\n",
       "      <td>F</td>\n",
       "      <td>retiree</td>\n",
       "      <td>0</td>\n",
       "      <td>21940</td>\n",
       "      <td>housing transactions</td>\n",
       "    </tr>\n",
       "    <tr>\n",
       "      <td>18428</td>\n",
       "      <td>0</td>\n",
       "      <td>11106.172367</td>\n",
       "      <td>64</td>\n",
       "      <td>SECONDARY EDUCATION</td>\n",
       "      <td>1</td>\n",
       "      <td>married</td>\n",
       "      <td>0</td>\n",
       "      <td>F</td>\n",
       "      <td>retiree</td>\n",
       "      <td>0</td>\n",
       "      <td>21940</td>\n",
       "      <td>housing</td>\n",
       "    </tr>\n",
       "    <tr>\n",
       "      <td>16204</td>\n",
       "      <td>0</td>\n",
       "      <td>8184.172367</td>\n",
       "      <td>56</td>\n",
       "      <td>SECONDARY EDUCATION</td>\n",
       "      <td>1</td>\n",
       "      <td>married</td>\n",
       "      <td>0</td>\n",
       "      <td>F</td>\n",
       "      <td>retiree</td>\n",
       "      <td>0</td>\n",
       "      <td>21940</td>\n",
       "      <td>to buy a car</td>\n",
       "    </tr>\n",
       "    <tr>\n",
       "      <td>15273</td>\n",
       "      <td>0</td>\n",
       "      <td>8549.422367</td>\n",
       "      <td>57</td>\n",
       "      <td>SECONDARY EDUCATION</td>\n",
       "      <td>1</td>\n",
       "      <td>civil partnership</td>\n",
       "      <td>1</td>\n",
       "      <td>F</td>\n",
       "      <td>retiree</td>\n",
       "      <td>0</td>\n",
       "      <td>21940</td>\n",
       "      <td>wedding ceremony</td>\n",
       "    </tr>\n",
       "    <tr>\n",
       "      <td>18755</td>\n",
       "      <td>0</td>\n",
       "      <td>8914.672367</td>\n",
       "      <td>58</td>\n",
       "      <td>SECONDARY EDUCATION</td>\n",
       "      <td>1</td>\n",
       "      <td>married</td>\n",
       "      <td>0</td>\n",
       "      <td>F</td>\n",
       "      <td>retiree</td>\n",
       "      <td>0</td>\n",
       "      <td>21940</td>\n",
       "      <td>to become educated</td>\n",
       "    </tr>\n",
       "    <tr>\n",
       "      <td>...</td>\n",
       "      <td>...</td>\n",
       "      <td>...</td>\n",
       "      <td>...</td>\n",
       "      <td>...</td>\n",
       "      <td>...</td>\n",
       "      <td>...</td>\n",
       "      <td>...</td>\n",
       "      <td>...</td>\n",
       "      <td>...</td>\n",
       "      <td>...</td>\n",
       "      <td>...</td>\n",
       "      <td>...</td>\n",
       "    </tr>\n",
       "    <tr>\n",
       "      <td>17379</td>\n",
       "      <td>0</td>\n",
       "      <td>2111.000000</td>\n",
       "      <td>54</td>\n",
       "      <td>BACHELOR'S DEGREE</td>\n",
       "      <td>0</td>\n",
       "      <td>married</td>\n",
       "      <td>0</td>\n",
       "      <td>M</td>\n",
       "      <td>business</td>\n",
       "      <td>0</td>\n",
       "      <td>32386</td>\n",
       "      <td>transactions with commercial real estate</td>\n",
       "    </tr>\n",
       "    <tr>\n",
       "      <td>19369</td>\n",
       "      <td>0</td>\n",
       "      <td>2111.000000</td>\n",
       "      <td>45</td>\n",
       "      <td>SECONDARY EDUCATION</td>\n",
       "      <td>1</td>\n",
       "      <td>civil partnership</td>\n",
       "      <td>1</td>\n",
       "      <td>F</td>\n",
       "      <td>business</td>\n",
       "      <td>0</td>\n",
       "      <td>32386</td>\n",
       "      <td>wedding ceremony</td>\n",
       "    </tr>\n",
       "    <tr>\n",
       "      <td>17774</td>\n",
       "      <td>1</td>\n",
       "      <td>2111.000000</td>\n",
       "      <td>40</td>\n",
       "      <td>SECONDARY EDUCATION</td>\n",
       "      <td>1</td>\n",
       "      <td>civil partnership</td>\n",
       "      <td>1</td>\n",
       "      <td>F</td>\n",
       "      <td>business</td>\n",
       "      <td>0</td>\n",
       "      <td>32386</td>\n",
       "      <td>building a real estate</td>\n",
       "    </tr>\n",
       "    <tr>\n",
       "      <td>13878</td>\n",
       "      <td>1</td>\n",
       "      <td>2111.000000</td>\n",
       "      <td>31</td>\n",
       "      <td>SECONDARY EDUCATION</td>\n",
       "      <td>1</td>\n",
       "      <td>married</td>\n",
       "      <td>0</td>\n",
       "      <td>F</td>\n",
       "      <td>business</td>\n",
       "      <td>0</td>\n",
       "      <td>32386</td>\n",
       "      <td>purchase of the house</td>\n",
       "    </tr>\n",
       "    <tr>\n",
       "      <td>15991</td>\n",
       "      <td>0</td>\n",
       "      <td>2111.000000</td>\n",
       "      <td>51</td>\n",
       "      <td>SECONDARY EDUCATION</td>\n",
       "      <td>1</td>\n",
       "      <td>civil partnership</td>\n",
       "      <td>1</td>\n",
       "      <td>F</td>\n",
       "      <td>business</td>\n",
       "      <td>0</td>\n",
       "      <td>32386</td>\n",
       "      <td>having a wedding</td>\n",
       "    </tr>\n",
       "  </tbody>\n",
       "</table>\n",
       "<p>71 rows × 12 columns</p>\n",
       "</div>"
      ],
      "text/plain": [
       "       children  days_employed  dob_years            education  education_id  \\\n",
       "21415         0    7453.672367         54  SECONDARY EDUCATION             1   \n",
       "18428         0   11106.172367         64  SECONDARY EDUCATION             1   \n",
       "16204         0    8184.172367         56  SECONDARY EDUCATION             1   \n",
       "15273         0    8549.422367         57  SECONDARY EDUCATION             1   \n",
       "18755         0    8914.672367         58  SECONDARY EDUCATION             1   \n",
       "...         ...            ...        ...                  ...           ...   \n",
       "17379         0    2111.000000         54    BACHELOR'S DEGREE             0   \n",
       "19369         0    2111.000000         45  SECONDARY EDUCATION             1   \n",
       "17774         1    2111.000000         40  SECONDARY EDUCATION             1   \n",
       "13878         1    2111.000000         31  SECONDARY EDUCATION             1   \n",
       "15991         0    2111.000000         51  SECONDARY EDUCATION             1   \n",
       "\n",
       "           family_status  family_status_id gender income_type  debt  \\\n",
       "21415            married                 0      F     retiree     0   \n",
       "18428            married                 0      F     retiree     0   \n",
       "16204            married                 0      F     retiree     0   \n",
       "15273  civil partnership                 1      F     retiree     0   \n",
       "18755            married                 0      F     retiree     0   \n",
       "...                  ...               ...    ...         ...   ...   \n",
       "17379            married                 0      M    business     0   \n",
       "19369  civil partnership                 1      F    business     0   \n",
       "17774  civil partnership                 1      F    business     0   \n",
       "13878            married                 0      F    business     0   \n",
       "15991  civil partnership                 1      F    business     0   \n",
       "\n",
       "       total_income                                   purpose  \n",
       "21415         21940                      housing transactions  \n",
       "18428         21940                                   housing  \n",
       "16204         21940                              to buy a car  \n",
       "15273         21940                          wedding ceremony  \n",
       "18755         21940                        to become educated  \n",
       "...             ...                                       ...  \n",
       "17379         32386  transactions with commercial real estate  \n",
       "19369         32386                          wedding ceremony  \n",
       "17774         32386                    building a real estate  \n",
       "13878         32386                     purchase of the house  \n",
       "15991         32386                          having a wedding  \n",
       "\n",
       "[71 rows x 12 columns]"
      ]
     },
     "execution_count": 38,
     "metadata": {},
     "output_type": "execute_result"
    }
   ],
   "source": [
    "data[data.duplicated()].sort_values(by = 'total_income')"
   ]
  },
  {
   "cell_type": "markdown",
   "metadata": {},
   "source": [
    "We have 71 duplicated rows in our dataset. The default output for .duplicated() is all duplicated rows except for the first instance, meaning that we'll be dropping 71 rows from our dataset (the first instance of these duplicated rows were not returned in the above code block). "
   ]
  },
  {
   "cell_type": "code",
   "execution_count": 39,
   "metadata": {},
   "outputs": [
    {
     "name": "stdout",
     "output_type": "stream",
     "text": [
      "Number of rows dropped: 71\n"
     ]
    }
   ],
   "source": [
    "before_length = len(data)\n",
    "data = data.drop_duplicates()\n",
    "after_length = len(data)\n",
    "print(\"Number of rows dropped:\", before_length - after_length)"
   ]
  },
  {
   "cell_type": "markdown",
   "metadata": {},
   "source": [
    "### Step 3: Categorize Data"
   ]
  },
  {
   "cell_type": "markdown",
   "metadata": {},
   "source": [
    "#### Step 3.1: Income Level"
   ]
  },
  {
   "cell_type": "code",
   "execution_count": 40,
   "metadata": {},
   "outputs": [
    {
     "name": "stdout",
     "output_type": "stream",
     "text": [
      "Min total_income: 3306.00\n",
      "Max total_income: 362496.00\n",
      "Median total_income: 24291.00\n",
      "Average total_income: 26795.19\n",
      "Standard deviation of total_income: 15707.27\n"
     ]
    }
   ],
   "source": [
    "statistical_summary('total_income')"
   ]
  },
  {
   "cell_type": "code",
   "execution_count": 41,
   "metadata": {},
   "outputs": [
    {
     "data": {
      "image/png": "[encoded data removed]",
      "text/plain": [
       "<Figure size 1080x576 with 1 Axes>"
      ]
     },
     "metadata": {
      "needs_background": "light"
     },
     "output_type": "display_data"
    }
   ],
   "source": [
    "# Histogram of total income frequency across dataset\n",
    "total_income = data['total_income'].to_numpy()\n",
    "hist_kws={'histtype': 'bar', 'edgecolor':'black', 'alpha': 0.2}\n",
    "fig, ax = plt.subplots(figsize=(15, 8))\n",
    "sns.distplot(total_income, bins=50, kde=False, ax=ax, hist_kws=hist_kws)\n",
    "ax.set_title('Histogram of Total Income', fontsize=16)\n",
    "ax.set_xlabel('Total Income', fontsize=12)\n",
    "ax.set_ylabel('Frequency', fontsize=12)\n",
    "plt.show()"
   ]
  },
  {
   "cell_type": "markdown",
   "metadata": {},
   "source": [
    "The histogram shows that although our max salary is above \\\\$300,000, the vast majority of our income data lies below \\\\$100,000. I'll plot a CDF (cumulative density function) to help provide some insight into how to categorize our income data."
   ]
  },
  {
   "cell_type": "code",
   "execution_count": 42,
   "metadata": {},
   "outputs": [
    {
     "data": {
      "image/png": "[encoded data removed]",
      "text/plain": [
       "<Figure size 1080x576 with 1 Axes>"
      ]
     },
     "metadata": {
      "needs_background": "light"
     },
     "output_type": "display_data"
    }
   ],
   "source": [
    "hist_kws={'histtype': 'step', 'edgecolor':'black', 'alpha': 0.2, 'cumulative': True, 'density': 1}\n",
    "fig, ax = plt.subplots(figsize=(15, 8))\n",
    "sns.distplot(total_income, bins=500, kde=False, ax=ax, hist_kws=hist_kws)\n",
    "ax.set_title('CDF of Total Income', fontsize=16)\n",
    "ax.set_xlabel('Total Income', fontsize=12)\n",
    "ax.set_ylabel('Frequency', fontsize=12)\n",
    "plt.show()"
   ]
  },
  {
   "cell_type": "code",
   "execution_count": 43,
   "metadata": {},
   "outputs": [
    {
     "name": "stdout",
     "output_type": "stream",
     "text": [
      "Percentile 25: 17224.00\n",
      "Percentile 33: 19552.00\n",
      "Percentile 50: 24291.00\n",
      "Percentile 67: 28448.52\n",
      "Percentile 75: 32386.00\n"
     ]
    }
   ],
   "source": [
    "# Get the data points for each percentile in data (starting with 25, 33, 50, 67, 75)\n",
    "percentile_list = [25, 33, 50, 67, 75]\n",
    "for percentile in percentile_list:\n",
    "    print(\"Percentile {}: {:.2f}\".format(percentile, np.percentile(total_income, percentile)))"
   ]
  },
  {
   "cell_type": "markdown",
   "metadata": {},
   "source": [
    "For now, we'll categorize our income data into three groupings: **low income** (up to 33rd percentile), **medium income** (33rd to 67th percentile), and **high income** (higher than 67th percentile). We're going to see high variation in the high income group, so that may be something to watch out for when drawing conclusions from the data."
   ]
  },
  {
   "cell_type": "code",
   "execution_count": 44,
   "metadata": {},
   "outputs": [
    {
     "data": {
      "text/html": [
       "<div>\n",
       "<style scoped>\n",
       "    .dataframe tbody tr th:only-of-type {\n",
       "        vertical-align: middle;\n",
       "    }\n",
       "\n",
       "    .dataframe tbody tr th {\n",
       "        vertical-align: top;\n",
       "    }\n",
       "\n",
       "    .dataframe thead th {\n",
       "        text-align: right;\n",
       "    }\n",
       "</style>\n",
       "<table border=\"1\" class=\"dataframe\">\n",
       "  <thead>\n",
       "    <tr style=\"text-align: right;\">\n",
       "      <th></th>\n",
       "      <th>children</th>\n",
       "      <th>days_employed</th>\n",
       "      <th>dob_years</th>\n",
       "      <th>education</th>\n",
       "      <th>education_id</th>\n",
       "      <th>family_status</th>\n",
       "      <th>family_status_id</th>\n",
       "      <th>gender</th>\n",
       "      <th>income_type</th>\n",
       "      <th>debt</th>\n",
       "      <th>total_income</th>\n",
       "      <th>purpose</th>\n",
       "      <th>income_level</th>\n",
       "    </tr>\n",
       "  </thead>\n",
       "  <tbody>\n",
       "    <tr>\n",
       "      <td>0</td>\n",
       "      <td>1</td>\n",
       "      <td>8437.000000</td>\n",
       "      <td>42</td>\n",
       "      <td>BACHELOR'S DEGREE</td>\n",
       "      <td>0</td>\n",
       "      <td>married</td>\n",
       "      <td>0</td>\n",
       "      <td>F</td>\n",
       "      <td>employee</td>\n",
       "      <td>0</td>\n",
       "      <td>40620</td>\n",
       "      <td>purchase of the house</td>\n",
       "      <td>high income</td>\n",
       "    </tr>\n",
       "    <tr>\n",
       "      <td>1</td>\n",
       "      <td>1</td>\n",
       "      <td>4024.000000</td>\n",
       "      <td>36</td>\n",
       "      <td>SECONDARY EDUCATION</td>\n",
       "      <td>1</td>\n",
       "      <td>married</td>\n",
       "      <td>0</td>\n",
       "      <td>F</td>\n",
       "      <td>employee</td>\n",
       "      <td>0</td>\n",
       "      <td>17932</td>\n",
       "      <td>car purchase</td>\n",
       "      <td>low income</td>\n",
       "    </tr>\n",
       "    <tr>\n",
       "      <td>2</td>\n",
       "      <td>0</td>\n",
       "      <td>5623.000000</td>\n",
       "      <td>33</td>\n",
       "      <td>SECONDARY EDUCATION</td>\n",
       "      <td>1</td>\n",
       "      <td>married</td>\n",
       "      <td>0</td>\n",
       "      <td>M</td>\n",
       "      <td>employee</td>\n",
       "      <td>0</td>\n",
       "      <td>23341</td>\n",
       "      <td>purchase of the house</td>\n",
       "      <td>medium income</td>\n",
       "    </tr>\n",
       "    <tr>\n",
       "      <td>3</td>\n",
       "      <td>3</td>\n",
       "      <td>4124.000000</td>\n",
       "      <td>32</td>\n",
       "      <td>SECONDARY EDUCATION</td>\n",
       "      <td>1</td>\n",
       "      <td>married</td>\n",
       "      <td>0</td>\n",
       "      <td>M</td>\n",
       "      <td>employee</td>\n",
       "      <td>0</td>\n",
       "      <td>42820</td>\n",
       "      <td>supplementary education</td>\n",
       "      <td>high income</td>\n",
       "    </tr>\n",
       "    <tr>\n",
       "      <td>4</td>\n",
       "      <td>0</td>\n",
       "      <td>7088.422367</td>\n",
       "      <td>53</td>\n",
       "      <td>SECONDARY EDUCATION</td>\n",
       "      <td>1</td>\n",
       "      <td>civil partnership</td>\n",
       "      <td>1</td>\n",
       "      <td>F</td>\n",
       "      <td>retiree</td>\n",
       "      <td>0</td>\n",
       "      <td>25378</td>\n",
       "      <td>to have a wedding</td>\n",
       "      <td>medium income</td>\n",
       "    </tr>\n",
       "    <tr>\n",
       "      <td>5</td>\n",
       "      <td>0</td>\n",
       "      <td>926.000000</td>\n",
       "      <td>27</td>\n",
       "      <td>BACHELOR'S DEGREE</td>\n",
       "      <td>0</td>\n",
       "      <td>civil partnership</td>\n",
       "      <td>1</td>\n",
       "      <td>M</td>\n",
       "      <td>business</td>\n",
       "      <td>0</td>\n",
       "      <td>40922</td>\n",
       "      <td>purchase of the house</td>\n",
       "      <td>high income</td>\n",
       "    </tr>\n",
       "    <tr>\n",
       "      <td>6</td>\n",
       "      <td>0</td>\n",
       "      <td>2879.000000</td>\n",
       "      <td>43</td>\n",
       "      <td>BACHELOR'S DEGREE</td>\n",
       "      <td>0</td>\n",
       "      <td>married</td>\n",
       "      <td>0</td>\n",
       "      <td>F</td>\n",
       "      <td>business</td>\n",
       "      <td>0</td>\n",
       "      <td>38484</td>\n",
       "      <td>housing transactions</td>\n",
       "      <td>high income</td>\n",
       "    </tr>\n",
       "    <tr>\n",
       "      <td>7</td>\n",
       "      <td>0</td>\n",
       "      <td>152.000000</td>\n",
       "      <td>50</td>\n",
       "      <td>SECONDARY EDUCATION</td>\n",
       "      <td>1</td>\n",
       "      <td>married</td>\n",
       "      <td>0</td>\n",
       "      <td>M</td>\n",
       "      <td>employee</td>\n",
       "      <td>0</td>\n",
       "      <td>21731</td>\n",
       "      <td>education</td>\n",
       "      <td>medium income</td>\n",
       "    </tr>\n",
       "    <tr>\n",
       "      <td>8</td>\n",
       "      <td>2</td>\n",
       "      <td>6929.000000</td>\n",
       "      <td>35</td>\n",
       "      <td>BACHELOR'S DEGREE</td>\n",
       "      <td>0</td>\n",
       "      <td>civil partnership</td>\n",
       "      <td>1</td>\n",
       "      <td>F</td>\n",
       "      <td>employee</td>\n",
       "      <td>0</td>\n",
       "      <td>15337</td>\n",
       "      <td>having a wedding</td>\n",
       "      <td>low income</td>\n",
       "    </tr>\n",
       "    <tr>\n",
       "      <td>9</td>\n",
       "      <td>0</td>\n",
       "      <td>2188.000000</td>\n",
       "      <td>41</td>\n",
       "      <td>SECONDARY EDUCATION</td>\n",
       "      <td>1</td>\n",
       "      <td>married</td>\n",
       "      <td>0</td>\n",
       "      <td>M</td>\n",
       "      <td>employee</td>\n",
       "      <td>0</td>\n",
       "      <td>23108</td>\n",
       "      <td>purchase of the house for my family</td>\n",
       "      <td>medium income</td>\n",
       "    </tr>\n",
       "  </tbody>\n",
       "</table>\n",
       "</div>"
      ],
      "text/plain": [
       "   children  days_employed  dob_years            education  education_id  \\\n",
       "0         1    8437.000000         42    BACHELOR'S DEGREE             0   \n",
       "1         1    4024.000000         36  SECONDARY EDUCATION             1   \n",
       "2         0    5623.000000         33  SECONDARY EDUCATION             1   \n",
       "3         3    4124.000000         32  SECONDARY EDUCATION             1   \n",
       "4         0    7088.422367         53  SECONDARY EDUCATION             1   \n",
       "5         0     926.000000         27    BACHELOR'S DEGREE             0   \n",
       "6         0    2879.000000         43    BACHELOR'S DEGREE             0   \n",
       "7         0     152.000000         50  SECONDARY EDUCATION             1   \n",
       "8         2    6929.000000         35    BACHELOR'S DEGREE             0   \n",
       "9         0    2188.000000         41  SECONDARY EDUCATION             1   \n",
       "\n",
       "       family_status  family_status_id gender income_type  debt  total_income  \\\n",
       "0            married                 0      F    employee     0         40620   \n",
       "1            married                 0      F    employee     0         17932   \n",
       "2            married                 0      M    employee     0         23341   \n",
       "3            married                 0      M    employee     0         42820   \n",
       "4  civil partnership                 1      F     retiree     0         25378   \n",
       "5  civil partnership                 1      M    business     0         40922   \n",
       "6            married                 0      F    business     0         38484   \n",
       "7            married                 0      M    employee     0         21731   \n",
       "8  civil partnership                 1      F    employee     0         15337   \n",
       "9            married                 0      M    employee     0         23108   \n",
       "\n",
       "                               purpose   income_level  \n",
       "0                purchase of the house    high income  \n",
       "1                         car purchase     low income  \n",
       "2                purchase of the house  medium income  \n",
       "3              supplementary education    high income  \n",
       "4                    to have a wedding  medium income  \n",
       "5                purchase of the house    high income  \n",
       "6                 housing transactions    high income  \n",
       "7                            education  medium income  \n",
       "8                     having a wedding     low income  \n",
       "9  purchase of the house for my family  medium income  "
      ]
     },
     "execution_count": 44,
     "metadata": {},
     "output_type": "execute_result"
    }
   ],
   "source": [
    "income_dict = {'low income': np.percentile(total_income, 33), 'medium income': np.percentile(total_income, 67)}\n",
    "\n",
    "def define_income_level(row, income_dict):\n",
    "    \n",
    "    income = row['total_income']\n",
    "    \n",
    "    if income <= income_dict['low income']:\n",
    "        return 'low income'\n",
    "    elif income_dict['low income'] < income <= income_dict['medium income']:\n",
    "        return 'medium income'\n",
    "    return 'high income'\n",
    "\n",
    "data['income_level'] = data.apply(define_income_level, income_dict = income_dict, axis = 1)\n",
    "data.head(10)"
   ]
  },
  {
   "cell_type": "markdown",
   "metadata": {},
   "source": [
    "#### Step 3.2: Children"
   ]
  },
  {
   "cell_type": "markdown",
   "metadata": {},
   "source": [
    "In order to find whether having children impacts ability to pay off a loan, we need to create a binary variable that returns true (or some other value) if individual has children, and false (or some other value) if individual does not have children."
   ]
  },
  {
   "cell_type": "code",
   "execution_count": 45,
   "metadata": {},
   "outputs": [
    {
     "data": {
      "text/html": [
       "<div>\n",
       "<style scoped>\n",
       "    .dataframe tbody tr th:only-of-type {\n",
       "        vertical-align: middle;\n",
       "    }\n",
       "\n",
       "    .dataframe tbody tr th {\n",
       "        vertical-align: top;\n",
       "    }\n",
       "\n",
       "    .dataframe thead th {\n",
       "        text-align: right;\n",
       "    }\n",
       "</style>\n",
       "<table border=\"1\" class=\"dataframe\">\n",
       "  <thead>\n",
       "    <tr style=\"text-align: right;\">\n",
       "      <th></th>\n",
       "      <th>children</th>\n",
       "      <th>days_employed</th>\n",
       "      <th>dob_years</th>\n",
       "      <th>education</th>\n",
       "      <th>education_id</th>\n",
       "      <th>family_status</th>\n",
       "      <th>family_status_id</th>\n",
       "      <th>gender</th>\n",
       "      <th>income_type</th>\n",
       "      <th>debt</th>\n",
       "      <th>total_income</th>\n",
       "      <th>purpose</th>\n",
       "      <th>income_level</th>\n",
       "      <th>children_group</th>\n",
       "    </tr>\n",
       "  </thead>\n",
       "  <tbody>\n",
       "    <tr>\n",
       "      <td>0</td>\n",
       "      <td>1</td>\n",
       "      <td>8437.000000</td>\n",
       "      <td>42</td>\n",
       "      <td>BACHELOR'S DEGREE</td>\n",
       "      <td>0</td>\n",
       "      <td>married</td>\n",
       "      <td>0</td>\n",
       "      <td>F</td>\n",
       "      <td>employee</td>\n",
       "      <td>0</td>\n",
       "      <td>40620</td>\n",
       "      <td>purchase of the house</td>\n",
       "      <td>high income</td>\n",
       "      <td>has children</td>\n",
       "    </tr>\n",
       "    <tr>\n",
       "      <td>1</td>\n",
       "      <td>1</td>\n",
       "      <td>4024.000000</td>\n",
       "      <td>36</td>\n",
       "      <td>SECONDARY EDUCATION</td>\n",
       "      <td>1</td>\n",
       "      <td>married</td>\n",
       "      <td>0</td>\n",
       "      <td>F</td>\n",
       "      <td>employee</td>\n",
       "      <td>0</td>\n",
       "      <td>17932</td>\n",
       "      <td>car purchase</td>\n",
       "      <td>low income</td>\n",
       "      <td>has children</td>\n",
       "    </tr>\n",
       "    <tr>\n",
       "      <td>2</td>\n",
       "      <td>0</td>\n",
       "      <td>5623.000000</td>\n",
       "      <td>33</td>\n",
       "      <td>SECONDARY EDUCATION</td>\n",
       "      <td>1</td>\n",
       "      <td>married</td>\n",
       "      <td>0</td>\n",
       "      <td>M</td>\n",
       "      <td>employee</td>\n",
       "      <td>0</td>\n",
       "      <td>23341</td>\n",
       "      <td>purchase of the house</td>\n",
       "      <td>medium income</td>\n",
       "      <td>no children</td>\n",
       "    </tr>\n",
       "    <tr>\n",
       "      <td>3</td>\n",
       "      <td>3</td>\n",
       "      <td>4124.000000</td>\n",
       "      <td>32</td>\n",
       "      <td>SECONDARY EDUCATION</td>\n",
       "      <td>1</td>\n",
       "      <td>married</td>\n",
       "      <td>0</td>\n",
       "      <td>M</td>\n",
       "      <td>employee</td>\n",
       "      <td>0</td>\n",
       "      <td>42820</td>\n",
       "      <td>supplementary education</td>\n",
       "      <td>high income</td>\n",
       "      <td>has children</td>\n",
       "    </tr>\n",
       "    <tr>\n",
       "      <td>4</td>\n",
       "      <td>0</td>\n",
       "      <td>7088.422367</td>\n",
       "      <td>53</td>\n",
       "      <td>SECONDARY EDUCATION</td>\n",
       "      <td>1</td>\n",
       "      <td>civil partnership</td>\n",
       "      <td>1</td>\n",
       "      <td>F</td>\n",
       "      <td>retiree</td>\n",
       "      <td>0</td>\n",
       "      <td>25378</td>\n",
       "      <td>to have a wedding</td>\n",
       "      <td>medium income</td>\n",
       "      <td>no children</td>\n",
       "    </tr>\n",
       "    <tr>\n",
       "      <td>5</td>\n",
       "      <td>0</td>\n",
       "      <td>926.000000</td>\n",
       "      <td>27</td>\n",
       "      <td>BACHELOR'S DEGREE</td>\n",
       "      <td>0</td>\n",
       "      <td>civil partnership</td>\n",
       "      <td>1</td>\n",
       "      <td>M</td>\n",
       "      <td>business</td>\n",
       "      <td>0</td>\n",
       "      <td>40922</td>\n",
       "      <td>purchase of the house</td>\n",
       "      <td>high income</td>\n",
       "      <td>no children</td>\n",
       "    </tr>\n",
       "    <tr>\n",
       "      <td>6</td>\n",
       "      <td>0</td>\n",
       "      <td>2879.000000</td>\n",
       "      <td>43</td>\n",
       "      <td>BACHELOR'S DEGREE</td>\n",
       "      <td>0</td>\n",
       "      <td>married</td>\n",
       "      <td>0</td>\n",
       "      <td>F</td>\n",
       "      <td>business</td>\n",
       "      <td>0</td>\n",
       "      <td>38484</td>\n",
       "      <td>housing transactions</td>\n",
       "      <td>high income</td>\n",
       "      <td>no children</td>\n",
       "    </tr>\n",
       "    <tr>\n",
       "      <td>7</td>\n",
       "      <td>0</td>\n",
       "      <td>152.000000</td>\n",
       "      <td>50</td>\n",
       "      <td>SECONDARY EDUCATION</td>\n",
       "      <td>1</td>\n",
       "      <td>married</td>\n",
       "      <td>0</td>\n",
       "      <td>M</td>\n",
       "      <td>employee</td>\n",
       "      <td>0</td>\n",
       "      <td>21731</td>\n",
       "      <td>education</td>\n",
       "      <td>medium income</td>\n",
       "      <td>no children</td>\n",
       "    </tr>\n",
       "    <tr>\n",
       "      <td>8</td>\n",
       "      <td>2</td>\n",
       "      <td>6929.000000</td>\n",
       "      <td>35</td>\n",
       "      <td>BACHELOR'S DEGREE</td>\n",
       "      <td>0</td>\n",
       "      <td>civil partnership</td>\n",
       "      <td>1</td>\n",
       "      <td>F</td>\n",
       "      <td>employee</td>\n",
       "      <td>0</td>\n",
       "      <td>15337</td>\n",
       "      <td>having a wedding</td>\n",
       "      <td>low income</td>\n",
       "      <td>has children</td>\n",
       "    </tr>\n",
       "    <tr>\n",
       "      <td>9</td>\n",
       "      <td>0</td>\n",
       "      <td>2188.000000</td>\n",
       "      <td>41</td>\n",
       "      <td>SECONDARY EDUCATION</td>\n",
       "      <td>1</td>\n",
       "      <td>married</td>\n",
       "      <td>0</td>\n",
       "      <td>M</td>\n",
       "      <td>employee</td>\n",
       "      <td>0</td>\n",
       "      <td>23108</td>\n",
       "      <td>purchase of the house for my family</td>\n",
       "      <td>medium income</td>\n",
       "      <td>no children</td>\n",
       "    </tr>\n",
       "  </tbody>\n",
       "</table>\n",
       "</div>"
      ],
      "text/plain": [
       "   children  days_employed  dob_years            education  education_id  \\\n",
       "0         1    8437.000000         42    BACHELOR'S DEGREE             0   \n",
       "1         1    4024.000000         36  SECONDARY EDUCATION             1   \n",
       "2         0    5623.000000         33  SECONDARY EDUCATION             1   \n",
       "3         3    4124.000000         32  SECONDARY EDUCATION             1   \n",
       "4         0    7088.422367         53  SECONDARY EDUCATION             1   \n",
       "5         0     926.000000         27    BACHELOR'S DEGREE             0   \n",
       "6         0    2879.000000         43    BACHELOR'S DEGREE             0   \n",
       "7         0     152.000000         50  SECONDARY EDUCATION             1   \n",
       "8         2    6929.000000         35    BACHELOR'S DEGREE             0   \n",
       "9         0    2188.000000         41  SECONDARY EDUCATION             1   \n",
       "\n",
       "       family_status  family_status_id gender income_type  debt  total_income  \\\n",
       "0            married                 0      F    employee     0         40620   \n",
       "1            married                 0      F    employee     0         17932   \n",
       "2            married                 0      M    employee     0         23341   \n",
       "3            married                 0      M    employee     0         42820   \n",
       "4  civil partnership                 1      F     retiree     0         25378   \n",
       "5  civil partnership                 1      M    business     0         40922   \n",
       "6            married                 0      F    business     0         38484   \n",
       "7            married                 0      M    employee     0         21731   \n",
       "8  civil partnership                 1      F    employee     0         15337   \n",
       "9            married                 0      M    employee     0         23108   \n",
       "\n",
       "                               purpose   income_level children_group  \n",
       "0                purchase of the house    high income   has children  \n",
       "1                         car purchase     low income   has children  \n",
       "2                purchase of the house  medium income    no children  \n",
       "3              supplementary education    high income   has children  \n",
       "4                    to have a wedding  medium income    no children  \n",
       "5                purchase of the house    high income    no children  \n",
       "6                 housing transactions    high income    no children  \n",
       "7                            education  medium income    no children  \n",
       "8                     having a wedding     low income   has children  \n",
       "9  purchase of the house for my family  medium income    no children  "
      ]
     },
     "execution_count": 45,
     "metadata": {},
     "output_type": "execute_result"
    }
   ],
   "source": [
    "def define_children_groups(row):\n",
    "    \n",
    "    num_children = row['children']\n",
    "    if num_children > 0:\n",
    "        return 'has children'\n",
    "    return 'no children'\n",
    "\n",
    "data['children_group'] = data.apply(define_children_groups, axis = 1)\n",
    "data.head(10)"
   ]
  },
  {
   "cell_type": "markdown",
   "metadata": {},
   "source": [
    "#### Step 3.3: Marital Status, Loan Purpose"
   ]
  },
  {
   "cell_type": "code",
   "execution_count": 46,
   "metadata": {},
   "outputs": [
    {
     "data": {
      "text/plain": [
       "married              12290\n",
       "civil partnership     4130\n",
       "unmarried             2794\n",
       "divorced              1185\n",
       "widow / widower        954\n",
       "Name: family_status, dtype: int64"
      ]
     },
     "execution_count": 46,
     "metadata": {},
     "output_type": "execute_result"
    }
   ],
   "source": [
    "data['family_status'].value_counts()"
   ]
  },
  {
   "cell_type": "code",
   "execution_count": 47,
   "metadata": {},
   "outputs": [
    {
     "data": {
      "text/plain": [
       "wedding ceremony                            786\n",
       "having a wedding                            764\n",
       "to have a wedding                           760\n",
       "real estate transactions                    672\n",
       "buy commercial real estate                  658\n",
       "buying property for renting out             649\n",
       "transactions with commercial real estate    648\n",
       "housing transactions                        646\n",
       "housing                                     640\n",
       "purchase of the house                       640\n",
       "purchase of the house for my family         637\n",
       "construction of own property                633\n",
       "property                                    629\n",
       "transactions with my real estate            627\n",
       "building a real estate                      621\n",
       "building a property                         619\n",
       "purchase of my own house                    619\n",
       "buy real estate                             618\n",
       "housing renovation                          605\n",
       "buy residential real estate                 603\n",
       "buying my own car                           502\n",
       "going to university                         493\n",
       "car                                         490\n",
       "second-hand car purchase                    484\n",
       "buying a second-hand car                    478\n",
       "cars                                        476\n",
       "to own a car                                475\n",
       "to buy a car                                466\n",
       "car purchase                                459\n",
       "supplementary education                     458\n",
       "purchase of a car                           454\n",
       "university education                        449\n",
       "to get a supplementary education            444\n",
       "education                                   444\n",
       "getting an education                        441\n",
       "profile education                           435\n",
       "getting higher education                    424\n",
       "to become educated                          407\n",
       "Name: purpose, dtype: int64"
      ]
     },
     "execution_count": 47,
     "metadata": {},
     "output_type": "execute_result"
    }
   ],
   "source": [
    "data['purpose'].value_counts()"
   ]
  },
  {
   "cell_type": "markdown",
   "metadata": {},
   "source": [
    "Likely due to custom responses from loan seekers, the purpose column has many \"duplicates\" that vary in word/sentence structure but convey the same idea. There are four overarching purposes: **wedding, real estate purchases, car purchases, and education.** "
   ]
  },
  {
   "cell_type": "code",
   "execution_count": 48,
   "metadata": {},
   "outputs": [
    {
     "data": {
      "text/plain": [
       "property              10764\n",
       "car purchase           4284\n",
       "university tuition     3995\n",
       "wedding                2310\n",
       "Name: purpose_group, dtype: int64"
      ]
     },
     "execution_count": 48,
     "metadata": {},
     "output_type": "execute_result"
    }
   ],
   "source": [
    "def purpose_grouping(row):\n",
    "    \n",
    "    purpose = row['purpose']\n",
    "    if 'educat' in purpose or 'university' in purpose:\n",
    "        return 'university tuition'\n",
    "    elif 'car' in purpose:\n",
    "        return 'car purchase'\n",
    "    elif 'wedding' in purpose:\n",
    "        return 'wedding'\n",
    "    elif 'real estate' in purpose or 'property' in purpose or 'hous' in purpose:\n",
    "        return 'property'\n",
    "    return purpose\n",
    "\n",
    "data['purpose_group'] = data.apply(purpose_grouping, axis = 1)\n",
    "data['purpose_group'].value_counts()"
   ]
  },
  {
   "cell_type": "markdown",
   "metadata": {},
   "source": [
    "While this brute-force approach works in this scenario, lemmatization would likely be necessary in a situation with more complex variation in word/sentence structure. "
   ]
  },
  {
   "cell_type": "markdown",
   "metadata": {},
   "source": [
    "### Step 4: Identify Relationships between Features"
   ]
  },
  {
   "cell_type": "markdown",
   "metadata": {},
   "source": [
    "#### Is there a connection between having kids and repaying a loan on time?"
   ]
  },
  {
   "cell_type": "code",
   "execution_count": 49,
   "metadata": {},
   "outputs": [
    {
     "data": {
      "text/html": [
       "<div>\n",
       "<style scoped>\n",
       "    .dataframe tbody tr th:only-of-type {\n",
       "        vertical-align: middle;\n",
       "    }\n",
       "\n",
       "    .dataframe tbody tr th {\n",
       "        vertical-align: top;\n",
       "    }\n",
       "\n",
       "    .dataframe thead th {\n",
       "        text-align: right;\n",
       "    }\n",
       "</style>\n",
       "<table border=\"1\" class=\"dataframe\">\n",
       "  <thead>\n",
       "    <tr style=\"text-align: right;\">\n",
       "      <th></th>\n",
       "      <th>debt</th>\n",
       "      <th>count</th>\n",
       "      <th>age</th>\n",
       "    </tr>\n",
       "    <tr>\n",
       "      <th>children_group</th>\n",
       "      <th></th>\n",
       "      <th></th>\n",
       "      <th></th>\n",
       "    </tr>\n",
       "  </thead>\n",
       "  <tbody>\n",
       "    <tr>\n",
       "      <td>no children</td>\n",
       "      <td>0.075453</td>\n",
       "      <td>14022</td>\n",
       "      <td>46.459635</td>\n",
       "    </tr>\n",
       "    <tr>\n",
       "      <td>has children</td>\n",
       "      <td>0.092075</td>\n",
       "      <td>7331</td>\n",
       "      <td>37.768926</td>\n",
       "    </tr>\n",
       "  </tbody>\n",
       "</table>\n",
       "</div>"
      ],
      "text/plain": [
       "                    debt  count        age\n",
       "children_group                            \n",
       "no children     0.075453  14022  46.459635\n",
       "has children    0.092075   7331  37.768926"
      ]
     },
     "execution_count": 49,
     "metadata": {},
     "output_type": "execute_result"
    }
   ],
   "source": [
    "children_pivot = data.pivot_table(\n",
    "    index = 'children_group', values = 'debt', aggfunc = np.mean).sort_values(by = 'debt')\n",
    "children_pivot['count'] = data.groupby('children_group')['children_group'].agg('count')\n",
    "children_pivot['age'] = data.groupby('children_group')['dob_years'].agg('mean')\n",
    "children_pivot"
   ]
  },
  {
   "cell_type": "code",
   "execution_count": 50,
   "metadata": {},
   "outputs": [
    {
     "data": {
      "text/html": [
       "<div>\n",
       "<style scoped>\n",
       "    .dataframe tbody tr th:only-of-type {\n",
       "        vertical-align: middle;\n",
       "    }\n",
       "\n",
       "    .dataframe tbody tr th {\n",
       "        vertical-align: top;\n",
       "    }\n",
       "\n",
       "    .dataframe thead th {\n",
       "        text-align: right;\n",
       "    }\n",
       "</style>\n",
       "<table border=\"1\" class=\"dataframe\">\n",
       "  <thead>\n",
       "    <tr style=\"text-align: right;\">\n",
       "      <th>purpose_group</th>\n",
       "      <th>car purchase</th>\n",
       "      <th>property</th>\n",
       "      <th>university tuition</th>\n",
       "      <th>wedding</th>\n",
       "    </tr>\n",
       "    <tr>\n",
       "      <th>children_group</th>\n",
       "      <th></th>\n",
       "      <th></th>\n",
       "      <th></th>\n",
       "      <th></th>\n",
       "    </tr>\n",
       "  </thead>\n",
       "  <tbody>\n",
       "    <tr>\n",
       "      <td>has children</td>\n",
       "      <td>0.108815</td>\n",
       "      <td>0.081989</td>\n",
       "      <td>0.103070</td>\n",
       "      <td>0.089760</td>\n",
       "    </tr>\n",
       "    <tr>\n",
       "      <td>no children</td>\n",
       "      <td>0.085452</td>\n",
       "      <td>0.067291</td>\n",
       "      <td>0.087172</td>\n",
       "      <td>0.074391</td>\n",
       "    </tr>\n",
       "  </tbody>\n",
       "</table>\n",
       "</div>"
      ],
      "text/plain": [
       "purpose_group   car purchase  property  university tuition   wedding\n",
       "children_group                                                      \n",
       "has children        0.108815  0.081989            0.103070  0.089760\n",
       "no children         0.085452  0.067291            0.087172  0.074391"
      ]
     },
     "execution_count": 50,
     "metadata": {},
     "output_type": "execute_result"
    }
   ],
   "source": [
    "children_pivot = data.pivot_table(\n",
    "    index = 'children_group', columns = 'purpose_group', values = 'debt', aggfunc = np.mean)\n",
    "children_pivot"
   ]
  },
  {
   "cell_type": "markdown",
   "metadata": {},
   "source": [
    "#### Is there a connection between marital status and repaying a loan on time?"
   ]
  },
  {
   "cell_type": "code",
   "execution_count": 51,
   "metadata": {},
   "outputs": [
    {
     "data": {
      "text/html": [
       "<div>\n",
       "<style scoped>\n",
       "    .dataframe tbody tr th:only-of-type {\n",
       "        vertical-align: middle;\n",
       "    }\n",
       "\n",
       "    .dataframe tbody tr th {\n",
       "        vertical-align: top;\n",
       "    }\n",
       "\n",
       "    .dataframe thead th {\n",
       "        text-align: right;\n",
       "    }\n",
       "</style>\n",
       "<table border=\"1\" class=\"dataframe\">\n",
       "  <thead>\n",
       "    <tr style=\"text-align: right;\">\n",
       "      <th></th>\n",
       "      <th>debt</th>\n",
       "      <th>count</th>\n",
       "      <th>age</th>\n",
       "    </tr>\n",
       "    <tr>\n",
       "      <th>family_status</th>\n",
       "      <th></th>\n",
       "      <th></th>\n",
       "      <th></th>\n",
       "    </tr>\n",
       "  </thead>\n",
       "  <tbody>\n",
       "    <tr>\n",
       "      <td>widow / widower</td>\n",
       "      <td>0.064990</td>\n",
       "      <td>954</td>\n",
       "      <td>56.799790</td>\n",
       "    </tr>\n",
       "    <tr>\n",
       "      <td>divorced</td>\n",
       "      <td>0.071730</td>\n",
       "      <td>1185</td>\n",
       "      <td>45.902110</td>\n",
       "    </tr>\n",
       "    <tr>\n",
       "      <td>married</td>\n",
       "      <td>0.075427</td>\n",
       "      <td>12290</td>\n",
       "      <td>43.720749</td>\n",
       "    </tr>\n",
       "    <tr>\n",
       "      <td>civil partnership</td>\n",
       "      <td>0.093462</td>\n",
       "      <td>4130</td>\n",
       "      <td>42.283293</td>\n",
       "    </tr>\n",
       "    <tr>\n",
       "      <td>unmarried</td>\n",
       "      <td>0.097709</td>\n",
       "      <td>2794</td>\n",
       "      <td>38.583393</td>\n",
       "    </tr>\n",
       "  </tbody>\n",
       "</table>\n",
       "</div>"
      ],
      "text/plain": [
       "                       debt  count        age\n",
       "family_status                                \n",
       "widow / widower    0.064990    954  56.799790\n",
       "divorced           0.071730   1185  45.902110\n",
       "married            0.075427  12290  43.720749\n",
       "civil partnership  0.093462   4130  42.283293\n",
       "unmarried          0.097709   2794  38.583393"
      ]
     },
     "execution_count": 51,
     "metadata": {},
     "output_type": "execute_result"
    }
   ],
   "source": [
    "marital_pivot = data.pivot_table(\n",
    "    index = 'family_status', values = 'debt', aggfunc = np.mean).sort_values(by = 'debt')\n",
    "marital_pivot['count'] = data.groupby('family_status')['family_status'].agg('count')\n",
    "marital_pivot['age'] = data.groupby('family_status')['dob_years'].agg('mean')\n",
    "marital_pivot"
   ]
  },
  {
   "cell_type": "markdown",
   "metadata": {},
   "source": [
    "#### Is there a connection between income level and repaying a loan on time?"
   ]
  },
  {
   "cell_type": "code",
   "execution_count": 52,
   "metadata": {},
   "outputs": [
    {
     "data": {
      "text/html": [
       "<div>\n",
       "<style scoped>\n",
       "    .dataframe tbody tr th:only-of-type {\n",
       "        vertical-align: middle;\n",
       "    }\n",
       "\n",
       "    .dataframe tbody tr th {\n",
       "        vertical-align: top;\n",
       "    }\n",
       "\n",
       "    .dataframe thead th {\n",
       "        text-align: right;\n",
       "    }\n",
       "</style>\n",
       "<table border=\"1\" class=\"dataframe\">\n",
       "  <thead>\n",
       "    <tr style=\"text-align: right;\">\n",
       "      <th></th>\n",
       "      <th>debt</th>\n",
       "      <th>count</th>\n",
       "    </tr>\n",
       "    <tr>\n",
       "      <th>income_level</th>\n",
       "      <th></th>\n",
       "      <th></th>\n",
       "    </tr>\n",
       "  </thead>\n",
       "  <tbody>\n",
       "    <tr>\n",
       "      <td>high income</td>\n",
       "      <td>0.073790</td>\n",
       "      <td>7047</td>\n",
       "    </tr>\n",
       "    <tr>\n",
       "      <td>low income</td>\n",
       "      <td>0.081679</td>\n",
       "      <td>7052</td>\n",
       "    </tr>\n",
       "    <tr>\n",
       "      <td>medium income</td>\n",
       "      <td>0.087814</td>\n",
       "      <td>7254</td>\n",
       "    </tr>\n",
       "  </tbody>\n",
       "</table>\n",
       "</div>"
      ],
      "text/plain": [
       "                   debt  count\n",
       "income_level                  \n",
       "high income    0.073790   7047\n",
       "low income     0.081679   7052\n",
       "medium income  0.087814   7254"
      ]
     },
     "execution_count": 52,
     "metadata": {},
     "output_type": "execute_result"
    }
   ],
   "source": [
    "income_pivot = data.pivot_table(\n",
    "    index = 'income_level', values = 'debt', aggfunc = np.mean).sort_values(by = 'debt')\n",
    "income_pivot['count'] = data.groupby('income_level')['income_level'].agg('count')\n",
    "income_pivot"
   ]
  },
  {
   "cell_type": "markdown",
   "metadata": {},
   "source": [
    "#### How do different loan purposes affect timely loan repayment?"
   ]
  },
  {
   "cell_type": "code",
   "execution_count": 53,
   "metadata": {},
   "outputs": [
    {
     "data": {
      "text/html": [
       "<div>\n",
       "<style scoped>\n",
       "    .dataframe tbody tr th:only-of-type {\n",
       "        vertical-align: middle;\n",
       "    }\n",
       "\n",
       "    .dataframe tbody tr th {\n",
       "        vertical-align: top;\n",
       "    }\n",
       "\n",
       "    .dataframe thead th {\n",
       "        text-align: right;\n",
       "    }\n",
       "</style>\n",
       "<table border=\"1\" class=\"dataframe\">\n",
       "  <thead>\n",
       "    <tr style=\"text-align: right;\">\n",
       "      <th></th>\n",
       "      <th>debt</th>\n",
       "      <th>count</th>\n",
       "    </tr>\n",
       "    <tr>\n",
       "      <th>purpose_group</th>\n",
       "      <th></th>\n",
       "      <th></th>\n",
       "    </tr>\n",
       "  </thead>\n",
       "  <tbody>\n",
       "    <tr>\n",
       "      <td>property</td>\n",
       "      <td>0.072371</td>\n",
       "      <td>10764</td>\n",
       "    </tr>\n",
       "    <tr>\n",
       "      <td>wedding</td>\n",
       "      <td>0.079654</td>\n",
       "      <td>2310</td>\n",
       "    </tr>\n",
       "    <tr>\n",
       "      <td>university tuition</td>\n",
       "      <td>0.092616</td>\n",
       "      <td>3995</td>\n",
       "    </tr>\n",
       "    <tr>\n",
       "      <td>car purchase</td>\n",
       "      <td>0.093371</td>\n",
       "      <td>4284</td>\n",
       "    </tr>\n",
       "  </tbody>\n",
       "</table>\n",
       "</div>"
      ],
      "text/plain": [
       "                        debt  count\n",
       "purpose_group                      \n",
       "property            0.072371  10764\n",
       "wedding             0.079654   2310\n",
       "university tuition  0.092616   3995\n",
       "car purchase        0.093371   4284"
      ]
     },
     "execution_count": 53,
     "metadata": {},
     "output_type": "execute_result"
    }
   ],
   "source": [
    "purpose_pivot = data.pivot_table(\n",
    "    index = 'purpose_group', values = 'debt', aggfunc = np.mean).sort_values(by = 'debt')\n",
    "purpose_pivot['count'] = data.groupby('purpose_group')['purpose_group'].agg('count')\n",
    "purpose_pivot"
   ]
  },
  {
   "cell_type": "markdown",
   "metadata": {},
   "source": [
    "#### Is there a connection between education level and repaying a loan on time? "
   ]
  },
  {
   "cell_type": "code",
   "execution_count": 54,
   "metadata": {},
   "outputs": [
    {
     "data": {
      "text/html": [
       "<div>\n",
       "<style scoped>\n",
       "    .dataframe tbody tr th:only-of-type {\n",
       "        vertical-align: middle;\n",
       "    }\n",
       "\n",
       "    .dataframe tbody tr th {\n",
       "        vertical-align: top;\n",
       "    }\n",
       "\n",
       "    .dataframe thead th {\n",
       "        text-align: right;\n",
       "    }\n",
       "</style>\n",
       "<table border=\"1\" class=\"dataframe\">\n",
       "  <thead>\n",
       "    <tr style=\"text-align: right;\">\n",
       "      <th></th>\n",
       "      <th>debt</th>\n",
       "      <th>count</th>\n",
       "    </tr>\n",
       "    <tr>\n",
       "      <th>education</th>\n",
       "      <th></th>\n",
       "      <th></th>\n",
       "    </tr>\n",
       "  </thead>\n",
       "  <tbody>\n",
       "    <tr>\n",
       "      <td>GRADUATE DEGREE</td>\n",
       "      <td>0.000000</td>\n",
       "      <td>6</td>\n",
       "    </tr>\n",
       "    <tr>\n",
       "      <td>BACHELOR'S DEGREE</td>\n",
       "      <td>0.053116</td>\n",
       "      <td>5215</td>\n",
       "    </tr>\n",
       "    <tr>\n",
       "      <td>SECONDARY EDUCATION</td>\n",
       "      <td>0.089820</td>\n",
       "      <td>15108</td>\n",
       "    </tr>\n",
       "    <tr>\n",
       "      <td>SOME COLLEGE</td>\n",
       "      <td>0.091644</td>\n",
       "      <td>742</td>\n",
       "    </tr>\n",
       "    <tr>\n",
       "      <td>PRIMARY EDUCATION</td>\n",
       "      <td>0.109929</td>\n",
       "      <td>282</td>\n",
       "    </tr>\n",
       "  </tbody>\n",
       "</table>\n",
       "</div>"
      ],
      "text/plain": [
       "                         debt  count\n",
       "education                           \n",
       "GRADUATE DEGREE      0.000000      6\n",
       "BACHELOR'S DEGREE    0.053116   5215\n",
       "SECONDARY EDUCATION  0.089820  15108\n",
       "SOME COLLEGE         0.091644    742\n",
       "PRIMARY EDUCATION    0.109929    282"
      ]
     },
     "execution_count": 54,
     "metadata": {},
     "output_type": "execute_result"
    }
   ],
   "source": [
    "education_pivot = data.pivot_table(\n",
    "    index = 'education', values = 'debt', aggfunc = np.mean).sort_values(by = 'debt')\n",
    "education_pivot['count'] = data.groupby('education')['education'].agg('count')\n",
    "education_pivot"
   ]
  },
  {
   "cell_type": "markdown",
   "metadata": {},
   "source": [
    "### Step 5: Overall Conclusions"
   ]
  },
  {
   "cell_type": "markdown",
   "metadata": {},
   "source": [
    "In this portion of the notebook, I will **outline the conclusions** reached during Step 4 of this notebook, and attempt to **explain why we see these relationships**."
   ]
  },
  {
   "cell_type": "markdown",
   "metadata": {},
   "source": [
    "Whether or not you have children has some bearing on your ability to pay back your loans on time -- those with children in our dataset were more likely to miss loan payments than those without children. I actually expected the opposite to be true on the premise that individuals with children are older and more likely to have stable finances. However, in the *children_pivot* pivot table, we see that **on average, the age of those without children is 9 years lower than those with children.** This is a surprising revelation but makes sense -- **stability and maturity of finances likely plays the greatest role in ability to pay back loans on time**, and the data here proves that point."
   ]
  },
  {
   "cell_type": "markdown",
   "metadata": {},
   "source": [
    "When looking at the impact of marital status on loan repayment, we see **widowers are least likely to miss loan payments, while unmarried individuals are the most likely to miss payments**. Once again, when looking through the lens of age and financial maturity, this makes sense -- we actually see **a linear relationship between age and ability to repay loans on time**. "
   ]
  },
  {
   "cell_type": "markdown",
   "metadata": {},
   "source": [
    "Income level plays a clear factor in ability to repay loans on time -- **high income individuals are less likely to miss loan repayment, while low income individuals are more likely to miss loan repayments**. However, the difference between the two groups isn't as large as expected. This is likely due to the bank filtering out higher-risk individuals from the low income group using data that is not available to us in this dataset (i.e. credit score)."
   ]
  },
  {
   "cell_type": "markdown",
   "metadata": {},
   "source": [
    "Different loan purposes also affects loan repayment. **While individuals taking out loans for weddings and real estate are less likely to miss loan payments, those taking out loans for university tuition or cars are more likely to miss their payments.** This is likely due to the fact that university tuition has no guaranteed ROI, and there have been extensive studies that report the increasing cost of college and the low salaries for many new grads. Furthermore, cars are more likely to be a splurge purchase, which explains why car loans are less likely to be paid back on time."
   ]
  },
  {
   "cell_type": "markdown",
   "metadata": {},
   "source": [
    "Finally, education level has a huge impact on loan repayments. If we exclude graduate degree holders, some college, and primary education individuals (due to low sample size), the difference just between Bachelor's degree holders and secondary education individuals is huge. This makes sense in the context of income -- those with a college education are more likely to be in the medium-to-high income bracket."
   ]
  },
  {
   "cell_type": "code",
   "execution_count": null,
   "metadata": {},
   "outputs": [],
   "source": []
  }
 ],
 "metadata": {
  "kernelspec": {
   "display_name": "Python 3",
   "language": "python",
   "name": "python3"
  },
  "language_info": {
   "codemirror_mode": {
    "name": "ipython",
    "version": 3
   },
   "file_extension": ".py",
   "mimetype": "text/x-python",
   "name": "python",
   "nbconvert_exporter": "python",
   "pygments_lexer": "ipython3",
   "version": "3.7.4"
  }
 },
 "nbformat": 4,
 "nbformat_minor": 2
}
